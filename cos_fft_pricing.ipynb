{
 "cells": [
  {
   "cell_type": "markdown",
   "metadata": {},
   "source": [
    "# Fang & Oosterle (2008) : A novel pricing method for european options based on Fourier-Cosine series expansions (Part I/II) and Heston (1993)\n",
    "\n",
    "The goal of the Heston Model is the pricing of options based on the Heston stochastic volatility model (Heston, 1993). To solve the Heston Model, we use Fang and Osterle's (2008) COS-FFT transformation. With the COS-FFT, we are able to calculate the p.d.f. of a characteristic function on a general interval. The density of the probabilistic function of the Heston model is  used to calculate option prices."
   ]
  },
  {
   "cell_type": "code",
   "execution_count": 2,
   "metadata": {
    "collapsed": true
   },
   "outputs": [],
   "source": [
    "#TODO:\n",
    "# implement (22) & (23)  which are needed in (29) DONE\n",
    "\n",
    "# implement pricing formula (30), and all needed components\n",
    "\n",
    "# implement Heston model\n",
    "\n",
    "# replicate numerical results (5.)"
   ]
  },
  {
   "cell_type": "markdown",
   "metadata": {},
   "source": [
    "Formulas and text are from Fang & Oosterle 2008 paper. Chapter and equation numbers also correspond)"
   ]
  },
  {
   "cell_type": "code",
   "execution_count": 4,
   "metadata": {},
   "outputs": [],
   "source": [
    "%matplotlib inline\n",
    "\n",
    "import cmath   # c stands for complex (to handle complex numbers)\n",
    "import numpy as np\n",
    "import matplotlib.pyplot as plt\n",
    "from scipy.special import gamma as gamma_fn"
   ]
  },
  {
   "cell_type": "code",
   "execution_count": 84,
   "metadata": {},
   "outputs": [],
   "source": [
    "#Initializing the necessary parameters\n",
    "######################################\n",
    "\n",
    "#Option parameters (Feng & Osterle (2008), p. 13)\n",
    "style = 0            # if style=1 then call, else put\n",
    "U = 0.16             # variance at t=0\n",
    "r = 0.1              # annual interest rate\n",
    "K = np.arange(10,121) # strike price\n",
    "#K = 120\n",
    "S = 100              # initial price\n",
    "tau = 1              # years to maturity\n",
    "\n",
    "#Heston parameters\n",
    "lam = 2              # mean reversion\n",
    "eta = 0.4            # volatility of volatility\n",
    "rho = -0.5           # correlation coefficient Brownian Motion\n",
    "mu = r               # drift of Brownian Motion (here interest rate)\n",
    "uBar = 0.2           # mean level of variance\n",
    "x = np.log(S/K)\n",
    "#print(x)"
   ]
  },
  {
   "cell_type": "code",
   "execution_count": 75,
   "metadata": {},
   "outputs": [
    {
     "name": "stdout",
     "output_type": "stream",
     "text": [
      "[ 0.59370521  1.18741041  1.78111562  2.37482082  2.96852603  3.56223124\n",
      "  4.15593644  4.74964165  5.34334685  5.93705206  6.53075726  7.12446247\n",
      "  7.71816768  8.31187288  8.90557809  9.49928329 10.0929885  10.68669371\n",
      " 11.28039891 11.87410412 12.46780932 13.06151453 13.65521973 14.24892494\n",
      " 14.84263015 15.43633535 16.03004056 16.62374576 17.21745097 17.81115618\n",
      " 18.40486138 18.99856659 19.59227179 20.185977   20.77968221 21.37338741\n",
      " 21.96709262 22.56079782 23.15450303 23.74820823 24.34191344 24.93561865\n",
      " 25.52932385 26.12302906 26.71673426 27.31043947 27.90414468 28.49784988\n",
      " 29.09155509]\n"
     ]
    }
   ],
   "source": [
    "#Setting up the COS_FFT\n",
    "#######################\n",
    "# Set up\n",
    "a = -5 * np.sqrt(uBar + uBar * eta) #5 times the std as interval boundaries\n",
    "b = 5 * np.sqrt(uBar + uBar * eta)\n",
    "N = 50\n",
    "k = np.arange(1,N)\n",
    "ome = k * np.pi / (b-a)"
   ]
  },
  {
   "cell_type": "code",
   "execution_count": 49,
   "metadata": {},
   "outputs": [],
   "source": [
    "# equation (22)\n",
    "def chi_cosine_series_coeff(k, a, b, c, d):\n",
    "    \"\"\"\n",
    "    Helper Function (22) in the F&O paper\n",
    "    Args:\n",
    "        k : coeﬃcients of the summand (runs from 0 to N-1)\n",
    "        a : float, left border of the trucated integral\n",
    "        b : float, right border of the truncated integral \n",
    "        c : 0\n",
    "        d : a or b\n",
    "    Returns:\n",
    "        chi_k : ndarray with k floats, a cosine series coefficient ndarray\n",
    "    \"\"\"\n",
    "    \n",
    "    \n",
    "    multiplier = 1 / (1 + (k*np.pi/(a - b))**2 )\n",
    "    \n",
    "    cos1 = np.cos( k * np.pi * ( (d-a)/(b-a) ) ) * np.exp(d)\n",
    "    cos2 = np.cos( k * np.pi * ( (c-a)/(b-a) ) ) * np.exp(c)\n",
    "    \n",
    "    sin1 = (k * np.pi)/(b-a) * np.sin( k * np.pi * ( (d-a)/(b-a) ) ) * np.exp(d)\n",
    "    sin2 = (k * np.pi)/(b-a) * np.sin( k * np.pi * ( (c-a)/(b-a) ) ) * np.exp(c)\n",
    "    \n",
    "    in_brakets = cos1 - cos2 + sin1 - sin2\n",
    "\n",
    "    return multiplier * in_brakets\n",
    "    \n",
    "# equation (23)\n",
    "def psi_cosine_series_coeff(k, a, b, c, d):\n",
    "    \"\"\"\n",
    "    Helper Function (23) in the F&O paper\n",
    "    Args:\n",
    "        k : int, coeﬃcients of the summand (runs from 0 to N-1)\n",
    "        a : float, left border of the trucated integral\n",
    "        b : float, right border of the truncated integral\n",
    "        c : 0\n",
    "        d : a oder b\n",
    "        \n",
    "    Returns:\n",
    "        psi_k : ndarray with k floats, a cosine series coefficient ndarray\n",
    "    \"\"\"\n",
    "    pi = np.pi\n",
    "    \n",
    "    sin1 = np.sin(k * pi * (d-a)/(b-a))\n",
    "    sin2 = np.sin(k * pi * (c-a)/(b-a))\n",
    "    in_brakets = sin1 - sin2\n",
    "        \n",
    "    y = in_brakets * (b-a) / (k * pi)\n",
    "    y[0] = (d-c)\n",
    "    \n",
    "    return y\n",
    "        "
   ]
  },
  {
   "cell_type": "code",
   "execution_count": 37,
   "metadata": {},
   "outputs": [],
   "source": [
    "def UK(k, a, b, style):\n",
    "    \"\"\"\n",
    "    Helper function for COS_FFT, (Fang & Osterle (2008), p. 6-7. )\n",
    "    Equation (29) in F&O paper. Calculates U_k.\n",
    "    Uses formula (22) and (23)\n",
    "    In:\n",
    "        k : int, coeﬃcients of the summand (runs from 0 to N-1)\n",
    "        a : float, left border of the trucated integral\n",
    "        b : float, right border of the truncated integral\n",
    "        style: bool, indicating whether the option is a call\n",
    "    Returns:\n",
    "        U:        ndarray of k floats, function value of UK\n",
    "    \"\"\"    \n",
    "    # if the option is a call\n",
    "    if style:\n",
    "        chi_k = chi_cosine_series_coeff(k, a, b, 0, b) \n",
    "        psi_k = psi_cosine_series_coeff(k, a, b, 0, b)\n",
    "\n",
    "        return (2 / (b - a)) * (chi_k - psi_k)\n",
    "        \n",
    "    # if the option is a put\n",
    "    else:\n",
    "        chi_k = chi_cosine_series_coeff(k, a, b, a, 0) \n",
    "        psi_k = psi_cosine_series_coeff(k, a, b, a, 0)\n",
    "        \n",
    "        return (2 / (b - a)) * (-chi_k + psi_k)"
   ]
  },
  {
   "cell_type": "code",
   "execution_count": 90,
   "metadata": {},
   "outputs": [],
   "source": [
    "def char_fun_hes(ome, U, lam, eta, mu, rho, uBar, tau):\n",
    "                  \n",
    "    '''\n",
    "    Characteristic function of Heston Model based on Fang & Osterle (2008), p. 8.\n",
    "    \n",
    "    ome = \n",
    "    U = variance at t=0\n",
    "    lam = mean reversion\n",
    "    eta = volatility of volatility\n",
    "    mu = drift of Brownian Motion (here interest rate)\n",
    "    rho = correlation coefficient Brownian Motion\n",
    "    uBar = mean level of variance\n",
    "    tau = years to maturity\n",
    "    '''\n",
    "    D = (( lam - 1j * rho * ome * eta ) ** 2 + ( ome ** 2 + ome * 1j ) * eta ** 2) ** (0.5)\n",
    "    G = (lam - 1j * rho * ome * eta - D) / (lam - 1j * rho * ome * eta + D)\n",
    "    \n",
    "    phiHes = (np.exp(1j * ome * mu * tau + (U / eta ** 2) * ((1 - np.exp(-D * tau)) / \n",
    "            (1 - G * np.exp(-D * tau))) * (lam - 1j * rho * ome * eta - D)) * \n",
    "            np.exp(((lam * uBar)/eta ** 2) * (tau * (lam - 1j * rho * ome *eta -D) - \n",
    "            2 * np.log((1-G * np.exp(-D * tau))/(1-G)))))\n",
    "    \n",
    "    return phiHes"
   ]
  },
  {
   "cell_type": "code",
   "execution_count": 87,
   "metadata": {},
   "outputs": [
    {
     "ename": "TypeError",
     "evalue": "object of type 'int' has no len()",
     "output_type": "error",
     "traceback": [
      "\u001b[1;31m---------------------------------------------------------------------------\u001b[0m",
      "\u001b[1;31mTypeError\u001b[0m                                 Traceback (most recent call last)",
      "\u001b[1;32m<ipython-input-87-ba9e64c1958e>\u001b[0m in \u001b[0;36m<module>\u001b[1;34m()\u001b[0m\n\u001b[0;32m      2\u001b[0m \u001b[1;31m#######################\u001b[0m\u001b[1;33m\u001b[0m\u001b[1;33m\u001b[0m\u001b[0m\n\u001b[0;32m      3\u001b[0m \u001b[1;31m# Output\u001b[0m\u001b[1;33m\u001b[0m\u001b[1;33m\u001b[0m\u001b[0m\n\u001b[1;32m----> 4\u001b[1;33m \u001b[0mOptPri\u001b[0m \u001b[1;33m=\u001b[0m \u001b[0mnp\u001b[0m\u001b[1;33m.\u001b[0m\u001b[0mzeros\u001b[0m\u001b[1;33m(\u001b[0m\u001b[0mlen\u001b[0m\u001b[1;33m(\u001b[0m\u001b[0mK\u001b[0m\u001b[1;33m)\u001b[0m\u001b[1;33m)\u001b[0m\u001b[1;33m\u001b[0m\u001b[0m\n\u001b[0m\u001b[0;32m      5\u001b[0m \u001b[0mweights\u001b[0m \u001b[1;33m=\u001b[0m \u001b[0mnp\u001b[0m\u001b[1;33m.\u001b[0m\u001b[0mones\u001b[0m\u001b[1;33m(\u001b[0m\u001b[0mN\u001b[0m\u001b[1;33m)\u001b[0m\u001b[1;33m\u001b[0m\u001b[0m\n\u001b[0;32m      6\u001b[0m \u001b[0mweights\u001b[0m\u001b[1;33m[\u001b[0m\u001b[1;36m0\u001b[0m\u001b[1;33m]\u001b[0m \u001b[1;33m=\u001b[0m \u001b[1;36m0.5\u001b[0m \u001b[1;31m# setting first weight to half\u001b[0m\u001b[1;33m\u001b[0m\u001b[0m\n",
      "\u001b[1;31mTypeError\u001b[0m: object of type 'int' has no len()"
     ]
    }
   ],
   "source": [
    "#Setting up the COS_FFT\n",
    "#######################\n",
    "# Output\n",
    "OptPri = np.zeros(len(K))\n",
    "weights = np.ones(N)\n",
    "weights[0] = 0.5 # setting first weight to half\n",
    "\n",
    "for s in range(0, len(K)):\n",
    "    #OptPri[s] = (K[s] * np.exp(-r * tau) * np.real(sum(weights * \n",
    "    #            (char_fun_hes(ome, U, lam, eta, mu, rho, uBar, tau) *\n",
    "    #             np.exp (1j * ome * (x[s] -a)) * UK(k, a, b, style)))))\n",
    "    OptPri[s] = np.exp (1j * ome[s] * (x[s] -a))\n",
    "    print(OptPri)"
   ]
  },
  {
   "cell_type": "markdown",
   "metadata": {},
   "source": [
    "## 3. Pricing European Options"
   ]
  },
  {
   "cell_type": "markdown",
   "metadata": {},
   "source": [
    "COS formula for general underlying processes:\n",
    "<img src=\"figures/f_19.png\" width=\"680\">"
   ]
  },
  {
   "cell_type": "markdown",
   "metadata": {},
   "source": [
    "### 3.1. Coeﬃcients V k for Plain Vanilla Options\n",
    "Before we can use (19) for pricing options, the payoﬀ series coeﬃcients, $V_k$ , have to be recovered. We can ﬁnd analytic solutions for $V_k$ for several contracts (Fang & Ooesterle, 2008)"
   ]
  },
  {
   "cell_type": "markdown",
   "metadata": {},
   "source": [
    "Both the cosine series coeﬃcients, $\\chi_k$ , of $g(y) = e^y$ on $[c,\\ d] ⊂ [a,\\ b]$ and \n",
    "\n",
    "the cosine series coeﬃcients, $\\psi_k$, of $g(y) = 1$ on $[c,\\ d] ⊂ [a,\\ b]$, are known analytically\n",
    "\n",
    "<img src=\"figures/f_22.png\" width=\"480\">\n",
    "\n",
    "<img src=\"figures/f_23.png\" width=\"480\">"
   ]
  },
  {
   "cell_type": "code",
   "execution_count": 19,
   "metadata": {
    "collapsed": true
   },
   "outputs": [],
   "source": [
    "# equation (22)\n",
    "def chi_cosine_series_coeff(k, a_param, b_param, c_param, d_param):\n",
    "    \"\"\"\n",
    "    Function (22) in the F&O paper\n",
    "    Args:\n",
    "        k : coeﬃcients of the summand (runs from 0 to N-1)\n",
    "        a_param : float, left border of the trucated integral\n",
    "        b_param : float, right border of the truncated integral\n",
    "        c_param : \n",
    "        d_param : \n",
    "        \n",
    "    Returns:\n",
    "        chi_k : float, a cosine series coefficient\n",
    "    \"\"\"\n",
    "\n",
    "    pi = cmath.pi\n",
    "    \n",
    "    a = a_param\n",
    "    b = b_param\n",
    "    c = c_param\n",
    "    d = d_param\n",
    "    \n",
    "    multiplier = 1 / (1 + (k*pi/(a - b))**2 )\n",
    "    \n",
    "    cos1 = cmath.cos( k*pi*( (d-a)/(b-a) ) ) * cmath.exp(d)\n",
    "    cos2 = cmath.cos( k*pi*( (c-a)/(b-a) ) ) * cmath.exp(c)\n",
    "    \n",
    "    sin1 = (k*pi)/(b-a) * cmath.sin( k*pi*( (d-a)/(b-a) ) ) * cmath.exp(d)\n",
    "    sin2 = (k*pi)/(b-a) * cmath.sin( k*pi*( (c-a)/(b-a) ) ) * cmath.exp(c)\n",
    "    \n",
    "    in_brakets = cos1 - cos2 + sin1 - sin2\n",
    "    \n",
    "    return multiplier * in_brakets\n",
    "    \n",
    "# equation (23)\n",
    "def psi_cosine_series_coeff(k, a_param, b_param, c_param, d_param):\n",
    "    \"\"\"\n",
    "    Function (23) in the F&O paper\n",
    "    Args:\n",
    "        k : int, coeﬃcients of the summand (runs from 0 to N-1)\n",
    "        a_param : float, left border of the trucated integral\n",
    "        b_param : float, right border of the truncated integral\n",
    "        c_param : \n",
    "        d_param : \n",
    "        \n",
    "    Returns:\n",
    "        psi_k : float, a cosine series coefficient\n",
    "    \"\"\"\n",
    "    pi = cmath.pi\n",
    "    \n",
    "    a = a_param\n",
    "    b = b_param\n",
    "    c = c_param\n",
    "    d = d_param\n",
    "    \n",
    "    if k == 0:\n",
    "        return d_param - c_param\n",
    "    \n",
    "    else:\n",
    "        sin1 = cmath.sin(k*pi*(d-a)/(b-a))\n",
    "        sin2 = cmath.sin(k*pi*(c-a)/(b-a))\n",
    "        in_brakets = sin1 - sin2\n",
    "        \n",
    "        return in_brakets * (b-a) / (k*pi)"
   ]
  },
  {
   "cell_type": "markdown",
   "metadata": {},
   "source": [
    "### 3.3. Formula for Lévy Processes and the Heston Model"
   ]
  },
  {
   "cell_type": "markdown",
   "metadata": {},
   "source": [
    "__Lévy Processes__\n",
    "<img src=\"figures/f_27_30.png\" width=\"480\">\n",
    "\n",
    "For the CGMY/KoBol model, which encompasses the __Geometric Brownian Motion (GBM)__ and __Variance Gamma (VG)__ models, the characteristic function of the log-asset price is of the form:\n",
    "\n",
    "<img src=\"figures/f_31.png\" width=\"480\">"
   ]
  },
  {
   "cell_type": "code",
   "execution_count": 34,
   "metadata": {
    "collapsed": true
   },
   "outputs": [],
   "source": [
    "def char_fun_levy(omega, r_param, q_param, sigma_param,\n",
    "                  Y_param, C_param, G_param, M_param, T_param):\n",
    "    \"\"\"\n",
    "    Characteristic function of the log-asset price according to a lévy process\n",
    "    \"\"\"\n",
    "    r = r_param\n",
    "    q = q_param\n",
    "    sigma = sigma_param\n",
    "    Y = Y_param\n",
    "    C = C_param\n",
    "    G = G_param\n",
    "    M = M_param\n",
    "    delta_t = T_param\n",
    "\n",
    "    exp1 = cmath.exp(1j*omega*(r-q)*delta_t - 0.5* omega**2 * sigma**2 * delta_t)\n",
    "    \n",
    "    multip1 = delta_t*C*gamma_fn(-Y)\n",
    "    multip2 = (M - 1j*omega)- M**Y + (G+1j*omega)**Y - G**Y\n",
    "    exp2 = cmath.exp(multip1 * multip2)\n",
    "    \n",
    "    return exp1 * exp2"
   ]
  },
  {
   "cell_type": "code",
   "execution_count": 35,
   "metadata": {
    "collapsed": true
   },
   "outputs": [],
   "source": [
    "def U_cosine_coeff(k, a_param, b_param, call):\n",
    "    \"\"\"\n",
    "    Equation (29) in F&O paper. Calculates U_k.\n",
    "    In:\n",
    "        k : int, coeﬃcients of the summand (runs from 0 to N-1)\n",
    "        a_param : float, left border of the trucated integral\n",
    "        b_param : float, right border of the truncated integral\n",
    "        call: bool, indicating whether the option is a call\n",
    "    Returns:\n",
    "        float        float\n",
    "    \"\"\"    \n",
    "    # if the option is a call\n",
    "    if call:\n",
    "        chi_k = chi_cosine_series_coeff(k, a_param, b_param, 0, b_param) \n",
    "        psi_k = psi_cosine_series_coeff(k, a_param, b_param, 0, b_param)\n",
    "\n",
    "        return (2 / (b_param - a_param)) * (chi_k - psi_k)\n",
    "        \n",
    "    # if the option is a put\n",
    "    else:\n",
    "        chi_k = chi_cosine_series_coeff(k, a_param, b_param, a_param, 0) \n",
    "        psi_k = psi_cosine_series_coeff(k, a_param, b_param, a_param, 0)\n",
    "        \n",
    "        return (2 / (b_param - a_param)) * (-chi_k + psi_k)"
   ]
  },
  {
   "cell_type": "markdown",
   "metadata": {},
   "source": [
    "Note SWS: We can define $F_k$ analoguous to the density case, so that we only need to run it $N$ times instead for every x. Thus,\n",
    "$$\n",
    "F_k = \\phi\\left(\\frac{k\\pi}{b-a}\\right) \\ U_k    \\qquad with \\qquad \\phi : some\\ characteristic \\ function\n",
    "$$"
   ]
  },
  {
   "cell_type": "code",
   "execution_count": 22,
   "metadata": {
    "collapsed": true
   },
   "outputs": [],
   "source": [
    "def get_Fk_values(a_param, b_param, char_fun, N, call_flag):\n",
    "    \"\"\"\n",
    "    We only want to do this once and not for each x\n",
    "    Args:\n",
    "        a : float, left border of the trucated integral, e.g. mean-6*std\n",
    "        b : float, right border of the truncated integral, e.g. mean+6*std\n",
    "        char_fun : a characteristic function, taking 1 argument (\\omega)\n",
    "        N: int, should be between 50 and 500\n",
    "        call : bool \n",
    "    Returns:\n",
    "       np.array of shape (N,) containing the values computed by Fk for each k \n",
    "    \"\"\"\n",
    "    # This is a numpy placeholder for our values obtained by Fk\n",
    "    values_Fk = np.zeros(N)\n",
    "    \n",
    "    # here we fill our placeholder with the correct values of Fk for each k\n",
    "    for k in range(N):\n",
    "        \n",
    "        U_k = U_cosine_coeff(k, a_param, b_param, call=call_flag) \n",
    "        \n",
    "        inside_omega = (k*cmath.pi) / (b_param-a_param)\n",
    "        \n",
    "        values_Fk[k] = char_fun(inside_omega) * U_k\n",
    "        \n",
    "    return values_Fk"
   ]
  },
  {
   "cell_type": "code",
   "execution_count": null,
   "metadata": {
    "collapsed": true
   },
   "outputs": [],
   "source": [
    "def pricing(x):\n",
    "    \"\"\"\n",
    "    Equation (30) in F&O paper.\n",
    "    \"\"\""
   ]
  },
  {
   "cell_type": "markdown",
   "metadata": {},
   "source": [
    "__Heston Model__\n",
    "\n",
    "In the Heston model, the volatility, denoted by $\\sqrt{u_t}$, is modeled by a stochastic diﬀerential equation:\n",
    "<img src=\"figures/f_32.png\" width=\"480\">\n",
    "<img src=\"figures/f_33_34.png\" width=\"480\">\n",
    "<img src=\"figures/f_33b.png\" width=\"480\">"
   ]
  },
  {
   "cell_type": "code",
   "execution_count": null,
   "metadata": {
    "collapsed": true
   },
   "outputs": [],
   "source": []
  },
  {
   "cell_type": "markdown",
   "metadata": {},
   "source": [
    "## 5. Numerical Results\n",
    "### 5.1. Truncation Range for COS Method"
   ]
  },
  {
   "cell_type": "code",
   "execution_count": null,
   "metadata": {
    "collapsed": true
   },
   "outputs": [],
   "source": []
  }
 ],
 "metadata": {
  "kernelspec": {
   "display_name": "Python 3",
   "language": "python",
   "name": "python3"
  },
  "language_info": {
   "codemirror_mode": {
    "name": "ipython",
    "version": 3
   },
   "file_extension": ".py",
   "mimetype": "text/x-python",
   "name": "python",
   "nbconvert_exporter": "python",
   "pygments_lexer": "ipython3",
   "version": "3.6.4"
  }
 },
 "nbformat": 4,
 "nbformat_minor": 2
}
