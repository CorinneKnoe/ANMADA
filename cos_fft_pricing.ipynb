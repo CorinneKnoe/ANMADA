{
 "cells": [
  {
   "cell_type": "markdown",
   "metadata": {},
   "source": [
    "# Fang & Oosterle (2008) : A novel pricing method for european options based on Fourier-Cosine series expansions (Part I/II) "
   ]
  },
  {
   "cell_type": "code",
   "execution_count": 2,
   "metadata": {
    "collapsed": true
   },
   "outputs": [],
   "source": [
    "#TODO:\n",
    "# implement (22) & (23)  which are needed in (29)\n",
    "\n",
    "# implement pricing formula (30), and all needed components\n",
    "\n",
    "# implement Heston model\n",
    "\n",
    "# replicate numerical results (5.)"
   ]
  },
  {
   "cell_type": "markdown",
   "metadata": {},
   "source": [
    "Formulas and text are from Fang & Oosterle 2008 paper. Chapter and equation numbers also correspond)"
   ]
  },
  {
   "cell_type": "code",
   "execution_count": 3,
   "metadata": {
    "collapsed": true
   },
   "outputs": [],
   "source": [
    "%matplotlib inline\n",
    "\n",
    "import cmath   # c stands for complex (to handle complex numbers)\n",
    "import numpy as np\n",
    "import matplotlib.pyplot as plt"
   ]
  },
  {
   "cell_type": "markdown",
   "metadata": {},
   "source": [
    "## 3. Pricing European Options"
   ]
  },
  {
   "cell_type": "markdown",
   "metadata": {},
   "source": [
    "COS formula for general underlying processes:\n",
    "<img src=\"figures/f_19.png\" width=\"680\">"
   ]
  },
  {
   "cell_type": "markdown",
   "metadata": {},
   "source": [
    "### 3.1. Coeﬃcients V k for Plain Vanilla Options\n",
    "Before we can use (19) for pricing options, the payoﬀ series coeﬃcients, $V_k$ , have to be recovered. We can ﬁnd analytic solutions for $V_k$ for several contracts (Fang & Ooesterle, 2008)"
   ]
  },
  {
   "cell_type": "markdown",
   "metadata": {},
   "source": [
    "Both the cosine series coeﬃcients, $\\chi_k$ , of $g(y) = e^y$ on $[c,\\ d] ⊂ [a,\\ b]$ and \n",
    "\n",
    "the cosine series coeﬃcients, $\\psi_k$, of $g(y) = 1$ on $[c,\\ d] ⊂ [a,\\ b]$, are known analytically\n",
    "\n",
    "<img src=\"figures/f_22.png\" width=\"480\">\n",
    "\n",
    "<img src=\"figures/f_23.png\" width=\"480\">\n",
    "\n",
    "<img src=\"figures/f_24.png\" width=\"480\">"
   ]
  },
  {
   "cell_type": "markdown",
   "metadata": {},
   "source": [
    "### 3.3. Formula for Lévy Processes and the Heston Model"
   ]
  },
  {
   "cell_type": "markdown",
   "metadata": {},
   "source": [
    "__Lévy Processes__\n",
    "<img src=\"figures/f_27_30.png\" width=\"480\">\n",
    "\n",
    "For the CGMY/KoBol model, which encompasses the __Geometric Brownian Motion (GBM)__ and __Variance Gamma (VG)__ models, the characteristic function of the log-asset price is of the form:\n",
    "\n",
    "<img src=\"figures/f_31.png\" width=\"480\">"
   ]
  },
  {
   "cell_type": "markdown",
   "metadata": {},
   "source": [
    "__Heston Model__\n",
    "\n",
    "In the Heston model, the volatility, denoted by $\\sqrt{u_t}$, is modeled by a stochastic diﬀerential equation:\n",
    "<img src=\"figures/f_32.png\" width=\"480\">\n",
    "<img src=\"figures/f_33_34.png\" width=\"480\">\n",
    "<img src=\"figures/f_33b.png\" width=\"480\">"
   ]
  },
  {
   "cell_type": "markdown",
   "metadata": {},
   "source": [
    "## 5. Numerical Results\n",
    "### 5.1. Truncation Range for COS Method"
   ]
  },
  {
   "cell_type": "code",
   "execution_count": null,
   "metadata": {
    "collapsed": true
   },
   "outputs": [],
   "source": []
  }
 ],
 "metadata": {
  "kernelspec": {
   "display_name": "Python [conda env:py36]",
   "language": "python",
   "name": "conda-env-py36-py"
  },
  "language_info": {
   "codemirror_mode": {
    "name": "ipython",
    "version": 3
   },
   "file_extension": ".py",
   "mimetype": "text/x-python",
   "name": "python",
   "nbconvert_exporter": "python",
   "pygments_lexer": "ipython3",
   "version": "3.6.1"
  }
 },
 "nbformat": 4,
 "nbformat_minor": 2
}
