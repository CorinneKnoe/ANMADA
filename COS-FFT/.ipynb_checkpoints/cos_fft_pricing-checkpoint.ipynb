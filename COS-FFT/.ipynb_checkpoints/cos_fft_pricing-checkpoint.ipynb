{
 "cells": [
  {
   "cell_type": "markdown",
   "metadata": {},
   "source": [
    "# Fang & Oosterle (2008) : A novel pricing method for european options based on Fourier-Cosine series expansions (Part I/II) and Heston (1993)\n",
    "\n",
    "The goal of the Heston Model is the pricing of options based on the Heston stochastic volatility model (Heston, 1993). To solve the Heston Model, we use Fang and Osterle's (2008) COS-FFT transformation. With the COS-FFT, we are able to calculate the p.d.f. of a characteristic function on a general interval. The density of the probabilistic function of the Heston model is  used to calculate option prices."
   ]
  },
  {
   "cell_type": "markdown",
   "metadata": {},
   "source": [
    "Formulas and text are from [Fang & Oosterle 2008](https://search.proquest.com/docview/921045379?pq-origsite=gscholar) paper. Chapter and equation numbers also correspond)"
   ]
  },
  {
   "cell_type": "code",
   "execution_count": 304,
   "metadata": {
    "collapsed": true
   },
   "outputs": [],
   "source": [
    "%matplotlib inline\n",
    "\n",
    "import time\n",
    "import cmath   # c stands for complex (to handle complex numbers)\n",
    "import collections\n",
    "import numpy as np\n",
    "import matplotlib.pyplot as plt\n",
    "from scipy.special import gamma as gamma_fn\n",
    "\n",
    "import warnings\n",
    "warnings.simplefilter('ignore')"
   ]
  },
  {
   "cell_type": "code",
   "execution_count": 305,
   "metadata": {},
   "outputs": [],
   "source": [
    "# import density functions from other python file\n",
    "from cos_fft_densities import get_values"
   ]
  },
  {
   "cell_type": "markdown",
   "metadata": {},
   "source": [
    "## 3. Pricing European Options"
   ]
  },
  {
   "cell_type": "markdown",
   "metadata": {},
   "source": [
    "### 3.1. Coeﬃcients $V_k$ for Plain Vanilla Options\n",
    "Before we can price options, the payoﬀ series coeﬃcients, $V_k$ , have to be recovered. We can ﬁnd analytic solutions for $V_k$ for several contracts (Fang & Ooesterle, 2008)"
   ]
  },
  {
   "cell_type": "markdown",
   "metadata": {},
   "source": [
    "Both the cosine series coeﬃcients, $\\chi_k$  and $\\psi_k$ are known analytically.\n",
    "\n",
    "<img style=\"float: left;\" src=\"figures/f_22_23.png\" width=\"580\">\n"
   ]
  },
  {
   "cell_type": "code",
   "execution_count": 306,
   "metadata": {
    "collapsed": true
   },
   "outputs": [],
   "source": [
    "# equation (22)\n",
    "def chi_cosine_series_coeff(k, a, b, c, d):\n",
    "    \"\"\"\n",
    "    Helper Function (22) in the F&O paper\n",
    "    Args:\n",
    "        k : coeﬃcients of the summand (runs from 0 to N-1)\n",
    "        a : float, left border of the trucated integral\n",
    "        b : float, right border of the truncated integral \n",
    "        c : 0\n",
    "        d : a or b\n",
    "    Returns:\n",
    "        chi_k : ndarray with N floats, a cosine series coefficient ndarray\n",
    "    \"\"\"\n",
    "    multiplier = 1 / (1 + (k* np.pi / (a - b))**2 )\n",
    "    \n",
    "    cos1 = np.cos( k * np.pi * ( (d-a)/(b-a) ) ) * np.exp(d)\n",
    "    cos2 = np.cos( k * np.pi * ( (c-a)/(b-a) ) ) * np.exp(c)\n",
    "    \n",
    "    sin1 = (k * np.pi)/(b-a) * np.sin( k * np.pi * ( (d-a)/(b-a) ) ) * np.exp(d)\n",
    "    sin2 = (k * np.pi)/(b-a) * np.sin( k * np.pi * ( (c-a)/(b-a) ) ) * np.exp(c)\n",
    "    \n",
    "    in_brakets = cos1 - cos2 + sin1 - sin2\n",
    "\n",
    "    return multiplier * in_brakets\n",
    "    \n",
    "# equation (23)\n",
    "def psi_cosine_series_coeff(k, a, b, c, d):\n",
    "    \"\"\"\n",
    "    Helper Function (23) in the F&O paper\n",
    "    Args:\n",
    "        k : int, coeﬃcients of the summand (runs from 0 to N-1)\n",
    "        a : float, left border of the trucated integral\n",
    "        b : float, right border of the truncated integral\n",
    "        c : 0\n",
    "        d : a oder b\n",
    "        \n",
    "    Returns:\n",
    "        psi_k : ndarray with N floats, a cosine series coefficient ndarray\n",
    "    \"\"\"\n",
    "    # handles 2 cases, the first if k is only an integer, the second if\n",
    "    # k is an array. k is an array if we use the vectorized compuatation of \n",
    "    # the sum\n",
    "    \n",
    "    pi = np.pi\n",
    "    \n",
    "    if isinstance(k, int): \n",
    "        if k == 0:\n",
    "            return (d-c)\n",
    "    \n",
    "    sin1 = np.sin(k * pi * (d-a)/(b-a))\n",
    "    sin2 = np.sin(k * pi * (c-a)/(b-a))\n",
    "    in_brakets = sin1 - sin2\n",
    "\n",
    "    y = in_brakets * (b-a) / (k * pi)\n",
    "\n",
    "    if isinstance(k, np.ndarray):\n",
    "\n",
    "        y[0] = (d-c)\n",
    "        \n",
    "    return y\n",
    "        "
   ]
  },
  {
   "cell_type": "markdown",
   "metadata": {},
   "source": [
    "### 3.3. Formula for Lévy Processes and the Heston Model"
   ]
  },
  {
   "cell_type": "markdown",
   "metadata": {},
   "source": [
    "<img style=\"float: left;\" src=\"figures/Uk.png\" width=\"680\">"
   ]
  },
  {
   "cell_type": "code",
   "execution_count": 307,
   "metadata": {
    "collapsed": true
   },
   "outputs": [],
   "source": [
    "def UK(k, a, b, style):\n",
    "    \"\"\"\n",
    "    Helper function for COS_FFT, (Fang & Osterle (2008), p. 6-7. )\n",
    "    Equation (29) in F&O paper. Calculates Uk.\n",
    "    Uses formula (22) and (23)\n",
    "    In:\n",
    "        k : int, coeﬃcients of the summand (runs from 0 to N-1)\n",
    "        a : float, left border of the trucated integral\n",
    "        b : float, right border of the truncated integral\n",
    "        style: bool, indicating whether the option is a call\n",
    "    Returns:\n",
    "        U:        ndarray of N floats, function value of UK\n",
    "    \"\"\"    \n",
    "    # if the option is a call\n",
    "    if style == 'call':\n",
    "        chi_k = chi_cosine_series_coeff(k, a, b, 0, b) \n",
    "        psi_k = psi_cosine_series_coeff(k, a, b, 0, b)\n",
    "\n",
    "        return (2 / (b - a)) * (chi_k - psi_k)\n",
    "        \n",
    "    # if the option is a put\n",
    "    elif style == 'put':\n",
    "        chi_k = chi_cosine_series_coeff(k, a, b, a, 0) \n",
    "        psi_k = psi_cosine_series_coeff(k, a, b, a, 0)\n",
    "        \n",
    "        return (2 / (b - a)) * (-chi_k + psi_k)"
   ]
  },
  {
   "cell_type": "markdown",
   "metadata": {},
   "source": [
    "### Lévy\n",
    "\n",
    "For the CGMY/KoBol model, which encompasses the __Geometric Brownian Motion (GBM)__ and __Variance Gamma (VG)__ models, the characteristic function of the log-asset price is of the form:\n",
    "\n",
    "<img style=\"float: left;\" src=\"figures/f_31.png\" width=\"680\">\n",
    "<img style=\"float: left;\" src=\"figures/f_56.png\" width=\"480\">"
   ]
  },
  {
   "cell_type": "code",
   "execution_count": 308,
   "metadata": {
    "collapsed": true
   },
   "outputs": [],
   "source": [
    "class LevyCharFunction:\n",
    "    \"\"\"\n",
    "    We use a class \n",
    "    \"\"\"\n",
    "    def __init__(self, model):\n",
    "        \"\"\"\n",
    "        Initial values according to (56) in F&O paper\n",
    "        \"\"\"\n",
    "        self.model = model\n",
    "       \n",
    "        # make sure that one of the three possible model is used as an input\n",
    "        error_message = \"Model input is not suitable, please use one of either 'CGMY', 'GBM', or 'VG' as a model for the levy characteristic function\"\n",
    "        assert self.model in ['CGMY', 'GBM','VG'], error_message\n",
    "        \n",
    "        self.r = 0.1\n",
    "        self.q = 0.\n",
    "        self.mu = self.r\n",
    "        \n",
    "        if self.model == 'CGMY':\n",
    "            self.C = 1.\n",
    "            self.G = 5.\n",
    "            self.M = 5.\n",
    "            self.Y = 0.5\n",
    "            self.sigma = 0.12  # as in (55)\n",
    "            \n",
    "        # Geometric Brownian Motion \n",
    "        elif self.model == 'GBM':\n",
    "            self.C = 0.    # if C == 0, the values of G,M,Y don't matter\n",
    "            self.G = 0.5\n",
    "            self.Y = 0.5\n",
    "            self.M = 0.5\n",
    "            self.sigma = 0.25  # as in eq(51)\n",
    "\n",
    "        # Variance Gamma\n",
    "        elif self.model == 'VG':\n",
    "            # according to (55)\n",
    "            self.sigma = 0.12\n",
    "            self.theta = -0.14\n",
    "            self.nu = 0.2\n",
    "            \n",
    "            self.Y = 0.   # as described on page 8 \n",
    "            \n",
    "            # C,G and M are defined as in (54)\n",
    "            self.C = 1 / self.nu\n",
    "            \n",
    "            inside_sqrt = self.theta**2/self.sigma**4 + 2/(self.nu*self.sigma**2)\n",
    "\n",
    "            self.G = self.theta / self.sigma**2 + cmath.sqrt(inside_sqrt)\n",
    "            self.M = -self.theta/self.sigma**2 + cmath.sqrt(inside_sqrt)\n",
    "            \n",
    "    def evaluate(self, omega, tau):\n",
    "        \"\"\"\n",
    "        Defined in eq(31) F&O paper, actually does the calculation of the\n",
    "        characteristic function.\n",
    "        \"\"\"\n",
    "\n",
    "        exp1 = np.exp(1j*omega*(self.r-self.q)*tau-0.5*omega**2*self.sigma**2*tau)\n",
    "        \n",
    "        if self.Y != 0:\n",
    "            first = (self.M-1j*omega)**self.Y - self.M**self.Y\n",
    "            second = (self.G+1j*omega)**self.Y - self.G**self.Y\n",
    "            in_brackets = first + second\n",
    "            exp2 = np.exp((tau*self.C*gamma_fn(-self.Y))*in_brackets)\n",
    "        \n",
    "            return exp1 * exp2\n",
    "        \n",
    "        # because Y=0 causes exp2 to be equal to 1\n",
    "        else:   \n",
    "            return exp1\n",
    "        \n",
    "        \n",
    "    def get_ab(self, tau):\n",
    "        \"\"\"\n",
    "        Returns the borders a and b\n",
    "        Defined in appendix, Table 11\n",
    "        \"\"\"\n",
    "        if self.model == 'GBM':\n",
    "            c1 = self.mu * tau\n",
    "            c2 = self.sigma**2 * tau\n",
    "            c4 = 0\n",
    "        \n",
    "        elif self.model == 'VG':\n",
    "            c1 = (self.mu + self.theta) * tau\n",
    "            c2 = (self.sigma**2 + self.nu*self.theta**2) * tau\n",
    "             \n",
    "            first_summand = self.sigma**4 *self.nu\n",
    "            second_summand = 2* self.theta**4 *self.nu**3\n",
    "            third_summand = 4* self.sigma**2 *self.theta**2 *self.nu**2\n",
    "            in_braces =  first_summand + second_summand + third_summand\n",
    "            c4 = 3 * in_braces * tau\n",
    "        \n",
    "        elif self.model == 'CGMY':\n",
    "            first_multip = self.C*tau*gamma_fn(1-self.Y)\n",
    "            second_multip = self.M**(self.Y-1)-self.G**(self.Y-1)\n",
    "            c1 = self.mu*tau + first_multip * second_multip\n",
    "\n",
    "            first_multip = self.C*tau*gamma_fn(2-self.Y)\n",
    "            second_multip = self.M**(self.Y-2)+self.G**(self.Y-2)\n",
    "            c2 = self.sigma**2*tau + first_multip * second_multip\n",
    "            \n",
    "            first_multip = self.C*tau*gamma_fn(4-self.Y)\n",
    "            second_multip = self.M**(self.Y-4)-self.G**(self.Y-4)\n",
    "            c4 = first_multip * second_multip\n",
    "\n",
    "        # eq(49)\n",
    "        root = np.sqrt( c2 + np.sqrt(c4) )\n",
    "        a_param = c1 - 10*root \n",
    "        b_param = c1 + 10*root\n",
    "        \n",
    "        return a_param, b_param "
   ]
  },
  {
   "cell_type": "code",
   "execution_count": 309,
   "metadata": {
    "collapsed": true
   },
   "outputs": [],
   "source": [
    "char_func = LevyCharFunction('CGMY')"
   ]
  },
  {
   "cell_type": "markdown",
   "metadata": {},
   "source": [
    "### Heston\n",
    "<img style=\"float: left;\" src=\"figures/heston.png\" width=\"480\">"
   ]
  },
  {
   "cell_type": "code",
   "execution_count": 310,
   "metadata": {
    "collapsed": true
   },
   "outputs": [],
   "source": [
    "class HestonCharFunction:\n",
    "    def __init__(self):\n",
    "        \"\"\"\n",
    "        Characteristic function of Heston Model based on Fang & Oosterle (2008), p. 8.\n",
    "\n",
    "        self.u_0 = variance at t=0\n",
    "        self.lam = mean reversion\n",
    "        self.eta = volatility of volatility\n",
    "        self.mu = drift of Brownian Motion (here interest rate)\n",
    "        self.rho = correlation coefficient Brownian Motion\n",
    "        self.uBar = mean level of variance\n",
    "\n",
    "        \"\"\"\n",
    "        self.model = \"Heston\"\n",
    "        \n",
    "        # parameters as in (53)\n",
    "        self.r = 0.\n",
    "        self.q = 0.\n",
    "\n",
    "        self.u_0 = 0.0175\n",
    "        self.lam = 1.5768\n",
    "        self.eta = 0.5751\n",
    "        self.mu = self.r\n",
    "        self.rho = -0.5711 \n",
    "        self.uBar = 0.0398\n",
    "    \n",
    "    def evaluate(self, ome, tau):\n",
    "        \"\"\"\n",
    "        ome = ndarray of length N\n",
    "        tau = years to maturity\n",
    "\n",
    "        Returns ndarray of N floats\n",
    "        \"\"\"\n",
    "\n",
    "        first = ( self.lam - 1j * self.rho * ome * self.eta ) ** 2\n",
    "        second = ( ome ** 2 + ome * 1j ) * self.eta ** 2\n",
    "        D = (first + second) ** (0.5)\n",
    "\n",
    "        nom = (self.lam - 1j * self.rho * ome * self.eta - D)\n",
    "        denom = (self.lam - 1j * self.rho * ome * self.eta + D)\n",
    "        G = nom / denom\n",
    "\n",
    "        first_summand = 1j * ome * self.mu * tau\n",
    "\n",
    "        first_factor = (self.u_0 / self.eta ** 2)\n",
    "        second_factor = (1 - np.exp(-D * tau)) / (1 - G * np.exp(-D * tau))\n",
    "        third_factor = self.lam - 1j * self.rho * ome * self.eta - D\n",
    "\n",
    "        second_summand =  first_factor * second_factor * third_factor \n",
    "\n",
    "        exp1 = np.exp(first_summand + second_summand)\n",
    "\n",
    "\n",
    "        first_factor = ((self.lam * self.uBar)/self.eta ** 2)\n",
    "\n",
    "        first = tau * (self.lam - 1j * self.rho * ome *self.eta -D)\n",
    "        second = 2 * np.log((1-G * np.exp(-D * tau))/(1-G))\n",
    "        second_factor = (first - second)\n",
    "\n",
    "        exp2 = np.exp( first_factor * second_factor )\n",
    "\n",
    "        phi_hes = exp1 * exp2\n",
    "\n",
    "        return phi_hes\n",
    "    \n",
    "    def get_ab(self, tau):\n",
    "        a_param = -5 * np.sqrt(self.uBar + self.uBar * self.eta)\n",
    "        b_param = 5 * np.sqrt(self.uBar + self.uBar * self.eta) \n",
    "        return a_param, b_param"
   ]
  },
  {
   "cell_type": "markdown",
   "metadata": {},
   "source": [
    "### Pricing"
   ]
  },
  {
   "cell_type": "markdown",
   "metadata": {},
   "source": [
    "<img style=\"float: left;\" src=\"figures/pricing.png\" width=\"680\">"
   ]
  },
  {
   "cell_type": "code",
   "execution_count": 329,
   "metadata": {
    "collapsed": true
   },
   "outputs": [],
   "source": [
    "def pricing(K, S, N, tau, char_fun, style):\n",
    "    \"\"\"\n",
    "    Implements eq (30) of the F&O paper\n",
    "    We do this by using the fact that \"the summation can be\n",
    "    written as a matrix-vector prodcut\", which speeds up computation\n",
    "    significantly.\n",
    "    \"\"\"\n",
    "    \n",
    "    x = np.log(S/K)          #from page 6\n",
    "    \n",
    "    a, b = char_fun.get_ab(tau)\n",
    "    \n",
    "    k = np.arange(0,N)       # vector used to sum over k, i.e. [0,1,2,...,N-1] \n",
    "    ome = k * np.pi / (b-a)  # the expression inside the characteristic fn\n",
    "\n",
    "    r_param = char_fun.r\n",
    "    q_param = char_fun.q\n",
    "    \n",
    "    weights = np.ones(N)\n",
    "    weights[0] = 0.5 # setting first weight to half\n",
    "\n",
    "    prices = np.zeros(len(K))\n",
    "    \n",
    "    for s in range(0, len(K)):\n",
    "        \n",
    "        exponential = np.exp(1j * ome * (x[s] -a))\n",
    "        \n",
    "        phi_omega = char_fun.evaluate(ome, tau)\n",
    "        \n",
    "        real_part = np.real(sum(weights * phi_omega * UK(k, a, b, 'put') * exponential))\n",
    "\n",
    "        prices[s] = (K[s] * np.exp(-r_param * tau) * real_part )\n",
    "    \n",
    "    # use put-call parity described in (50)\n",
    "    #if below is uncommented, change UK to UK(k, a, b, 'put') instead of style\n",
    "    if style == 'call':\n",
    "        #use put call parity described in (50)\n",
    "        prices = prices + S*np.exp(-q_param*tau) - K*np.exp(-r_param*tau)\n",
    "    \n",
    "    return prices "
   ]
  },
  {
   "cell_type": "markdown",
   "metadata": {},
   "source": [
    "## 5. Numerical Results"
   ]
  },
  {
   "cell_type": "code",
   "execution_count": 330,
   "metadata": {
    "collapsed": true
   },
   "outputs": [],
   "source": [
    "def run_experiment(T, ref_values, specifications):\n",
    "    \"\"\"\n",
    "    \"\"\"\n",
    "    K,S,char_fun,style = specifications\n",
    "\n",
    "    # make sure there is one reference value per Strike K \n",
    "    error_message = \"Need to provide one reference value per Strike K, please make sure that K and ref_values have the same length\"\n",
    "    assert len(K) == len(ref_values), error_message\n",
    "    \n",
    "    print(\"Model: \\t\\t\", char_fun.model)\n",
    "    print(\"Strike K =\\t\", K)\n",
    "    print(\"Underlying S =\\t\", S)\n",
    "    print(\"T =\\t\\t\", T)\n",
    "    print(\"Reference val. =\", ref_values, \"\\n\")\n",
    "    \n",
    "    print(\"N \\t max. abs. err. \\t avg.time(msec)\")\n",
    "    \n",
    "    for w in range(6,11):\n",
    "        N = 2**w\n",
    "        prices = pricing(K, S, N, T, char_fun, style)\n",
    "        errors = ref_values-prices\n",
    "        max_abs_error = max(abs(errors))\n",
    "        \n",
    "        start = time.time()\n",
    "        for i in range(100):\n",
    "            pricing(K, S, N, T, char_fun, style)\n",
    "        elapsed_time = (time.time() - start)\n",
    "        \n",
    "        # average and convert to milliseconds\n",
    "        elapsed_time = 1000*elapsed_time/100\n",
    "        \n",
    "        print(\"%s \\t %s \\t %s\" % (N, max_abs_error, elapsed_time))\n",
    "    print(\"\\n\\n\")\n",
    "    "
   ]
  },
  {
   "cell_type": "markdown",
   "metadata": {},
   "source": [
    "## 5.2. Geometric Brownian Motion, GBM."
   ]
  },
  {
   "cell_type": "markdown",
   "metadata": {},
   "source": [
    "### Table 2"
   ]
  },
  {
   "cell_type": "code",
   "execution_count": 331,
   "metadata": {},
   "outputs": [
    {
     "name": "stdout",
     "output_type": "stream",
     "text": [
      "Model: \t\t GBM\n",
      "Strike K =\t [ 80 100 120]\n",
      "Underlying S =\t 100\n",
      "T =\t\t 0.1\n",
      "Reference val. = [ 20.79922631   3.65996845   0.04457781] \n",
      "\n",
      "N \t max. abs. err. \t avg.time(msec)\n",
      "64 \t 0.307670641962 \t 0.7061100006103516\n",
      "128 \t 0.307670641962 \t 0.7626867294311523\n",
      "256 \t 0.307670641962 \t 0.9944891929626465\n",
      "512 \t 0.307670641962 \t 1.0046172142028809\n",
      "1024 \t 0.307670641962 \t 1.4780521392822266\n",
      "\n",
      "\n",
      "\n"
     ]
    }
   ],
   "source": [
    "K = np.array([80,100,120])   # strike prices\n",
    "S = 100              # initial price\n",
    "\n",
    "T = 0.1\n",
    "reference_values = np.array([20.799226309, 3.659968453, 0.044577814])\n",
    "\n",
    "char_fun = LevyCharFunction('GBM')\n",
    "specifications = (K,S,char_fun,'call')\n",
    "\n",
    "run_experiment(T, reference_values, specifications)"
   ]
  },
  {
   "cell_type": "code",
   "execution_count": 332,
   "metadata": {},
   "outputs": [
    {
     "data": {
      "image/png": "[encoded data removed]",
      "text/plain": [
       "<matplotlib.figure.Figure at 0x10d521d68>"
      ]
     },
     "metadata": {},
     "output_type": "display_data"
    }
   ],
   "source": [
    "T = 0.1\n",
    "N = 512 \n",
    "a, b = char_fun.get_ab(T)\n",
    "interval = (-1.5, 1.5)\n",
    "\n",
    "# the function get_values is imported from the density notebook \n",
    "values = get_values(a,b,char_fun.evaluate,N,interval, T)\n",
    "plt.plot(*values);"
   ]
  },
  {
   "cell_type": "markdown",
   "metadata": {},
   "source": [
    "## 5.3. The Heston Model"
   ]
  },
  {
   "cell_type": "code",
   "execution_count": 333,
   "metadata": {
    "collapsed": true
   },
   "outputs": [],
   "source": [
    "K = np.array([100])  # strike price\n",
    "S = 100 \n",
    "char_fun = HestonCharFunction()\n",
    "\n",
    "specifications = (K,S,char_fun,'call')"
   ]
  },
  {
   "cell_type": "code",
   "execution_count": 334,
   "metadata": {},
   "outputs": [
    {
     "data": {
      "image/png": "[encoded data removed]",
      "text/plain": [
       "<matplotlib.figure.Figure at 0x10dc750f0>"
      ]
     },
     "metadata": {},
     "output_type": "display_data"
    }
   ],
   "source": [
    "T = 1\n",
    "N = 512 \n",
    "a, b = char_fun.get_ab(T)\n",
    "interval = (-2.5, 2.5)\n",
    "\n",
    "# the function get_values is imported from the density notebook \n",
    "values = get_values(a,b,char_fun.evaluate,N,interval, T)\n",
    "plt.plot(*values);"
   ]
  },
  {
   "cell_type": "code",
   "execution_count": 335,
   "metadata": {},
   "outputs": [
    {
     "name": "stdout",
     "output_type": "stream",
     "text": [
      "Model: \t\t Heston\n",
      "Strike K =\t [100]\n",
      "Underlying S =\t 100\n",
      "T =\t\t 1\n",
      "Reference val. = [ 5.78515545] \n",
      "\n",
      "N \t max. abs. err. \t avg.time(msec)\n",
      "64 \t 0.00680552779319 \t 0.5258393287658691\n",
      "128 \t 0.00681145542547 \t 0.5312991142272949\n",
      "256 \t 0.00681145558515 \t 0.41940927505493164\n",
      "512 \t 0.00681145558515 \t 0.6272602081298828\n",
      "1024 \t 0.00681145558515 \t 0.9277510643005371\n",
      "\n",
      "\n",
      "\n"
     ]
    }
   ],
   "source": [
    "T = 1   # years to maturity\n",
    "reference_value = np.array([5.785155450])\n",
    "\n",
    "run_experiment(T,reference_value,specifications)"
   ]
  },
  {
   "cell_type": "code",
   "execution_count": 336,
   "metadata": {
    "scrolled": false
   },
   "outputs": [
    {
     "name": "stdout",
     "output_type": "stream",
     "text": [
      "Model: \t\t Heston\n",
      "Strike K =\t [100]\n",
      "Underlying S =\t 100\n",
      "T =\t\t 10\n",
      "Reference val. = [22.318945791] \n",
      "\n",
      "N \t max. abs. err. \t avg.time(msec)\n",
      "64 \t 2.36750712038 \t 0.35035133361816406\n",
      "128 \t 2.36750712038 \t 0.40579795837402344\n",
      "256 \t 2.36750712038 \t 0.4120206832885742\n",
      "512 \t 2.36750712038 \t 0.5250883102416992\n",
      "1024 \t 2.36750712038 \t 0.8854198455810547\n",
      "\n",
      "\n",
      "\n"
     ]
    }
   ],
   "source": [
    "T = 10   # years to maturity\n",
    "reference_value = [22.318945791]\n",
    "\n",
    "run_experiment(T,reference_value,specifications)"
   ]
  },
  {
   "cell_type": "markdown",
   "metadata": {},
   "source": [
    "Repeat the experiment for `T=1` but now with 21 consecutive strikes, `K = [50, 55, 60, · · · , 150]`"
   ]
  },
  {
   "cell_type": "code",
   "execution_count": 337,
   "metadata": {},
   "outputs": [
    {
     "name": "stdout",
     "output_type": "stream",
     "text": [
      "cpu time (msec.):  12.682999999981348 \n",
      "\n"
     ]
    },
    {
     "data": {
      "image/png": "[encoded data removed]",
      "text/plain": [
       "<matplotlib.figure.Figure at 0x10d335eb8>"
      ]
     },
     "metadata": {},
     "output_type": "display_data"
    }
   ],
   "source": [
    "T=1\n",
    "N=160\n",
    "K = np.array([j for j in range(50,151,5)])\n",
    "t = time.process_time()\n",
    "prices = pricing(K, S, N, T, HestonCharFunction(), 'call')\n",
    "elapsed = time.process_time()-t\n",
    "print(\"cpu time (msec.): \", 1000*elapsed, \"\\n\")\n",
    "plt.plot(K, prices);"
   ]
  },
  {
   "cell_type": "markdown",
   "metadata": {},
   "source": [
    "## 5.4. Variance Gamma, VG."
   ]
  },
  {
   "cell_type": "code",
   "execution_count": 338,
   "metadata": {
    "collapsed": true
   },
   "outputs": [],
   "source": [
    "K = np.array([90]) # strike price, ndarray\n",
    "S = 100              # initial price\n",
    "specifications = (K,S,LevyCharFunction('VG'),'call')"
   ]
  },
  {
   "cell_type": "markdown",
   "metadata": {},
   "source": [
    "### Table 7"
   ]
  },
  {
   "cell_type": "code",
   "execution_count": 340,
   "metadata": {},
   "outputs": [
    {
     "name": "stdout",
     "output_type": "stream",
     "text": [
      "Model: \t\t VG\n",
      "Strike K =\t [90]\n",
      "Underlying S =\t 100\n",
      "T =\t\t 0.1\n",
      "Reference val. = [10.993703187] \n",
      "\n",
      "N \t max. abs. err. \t avg.time(msec)\n",
      "64 \t 0.0970782923063 \t 0.3227114677429199\n",
      "128 \t 0.0970782910051 \t 0.4056072235107422\n",
      "256 \t 0.0970782910051 \t 0.3159213066101074\n",
      "512 \t 0.0970782910051 \t 0.30215024948120117\n",
      "1024 \t 0.0970782910051 \t 0.4336690902709961\n",
      "\n",
      "\n",
      "\n",
      "Model: \t\t VG\n",
      "Strike K =\t [90]\n",
      "Underlying S =\t 100\n",
      "T =\t\t 1\n",
      "Reference val. = [19.099354724] \n",
      "\n",
      "N \t max. abs. err. \t avg.time(msec)\n",
      "64 \t 0.368251598587 \t 0.2766108512878418\n",
      "128 \t 0.368251598585 \t 0.28769969940185547\n",
      "256 \t 0.368251598585 \t 0.2679014205932617\n",
      "512 \t 0.368251598585 \t 0.2965521812438965\n",
      "1024 \t 0.368251598585 \t 0.44255971908569336\n",
      "\n",
      "\n",
      "\n"
     ]
    }
   ],
   "source": [
    "T = .1\n",
    "reference_value = [10.993703187]\n",
    "\n",
    "run_experiment(T, reference_value, specifications)\n",
    "\n",
    "T = 1\n",
    "reference_value = [19.099354724]\n",
    "run_experiment(T, reference_value, specifications)"
   ]
  },
  {
   "cell_type": "markdown",
   "metadata": {},
   "source": [
    "### Fig. 4. Recovered density functions for the VG model and two maturity dates"
   ]
  },
  {
   "cell_type": "code",
   "execution_count": 341,
   "metadata": {},
   "outputs": [
    {
     "data": {
      "image/png": "[encoded data removed]",
      "text/plain": [
       "<matplotlib.figure.Figure at 0x10d4be550>"
      ]
     },
     "metadata": {},
     "output_type": "display_data"
    }
   ],
   "source": [
    "interval = (-1.5, 1.5)\n",
    "for T in (0.1, 1.):\n",
    "    values = get_values(a,b,char_fun.evaluate,N,interval, T)\n",
    "    plt.plot(*values)"
   ]
  },
  {
   "cell_type": "markdown",
   "metadata": {},
   "source": [
    "## 5.5. CGMY"
   ]
  },
  {
   "cell_type": "markdown",
   "metadata": {},
   "source": [
    "### Table 8: Accuracy and speed for CGMY with Y=0.5"
   ]
  },
  {
   "cell_type": "code",
   "execution_count": 342,
   "metadata": {},
   "outputs": [
    {
     "name": "stdout",
     "output_type": "stream",
     "text": [
      "Model: \t\t CGMY\n",
      "Strike K =\t [100]\n",
      "Underlying S =\t 100\n",
      "T =\t\t 1.0\n",
      "Reference val. = [19.812948843] \n",
      "\n",
      "N \t max. abs. err. \t avg.time(msec)\n",
      "64 \t 1.94285667493 \t 0.40880918502807617\n",
      "128 \t 1.94285666569 \t 0.2990412712097168\n",
      "256 \t 1.94285666569 \t 0.3108096122741699\n",
      "512 \t 1.94285666569 \t 0.37096261978149414\n",
      "1024 \t 1.94285666569 \t 0.5793023109436035\n",
      "\n",
      "\n",
      "\n"
     ]
    }
   ],
   "source": [
    "K = np.array([100]) # strike price, ndarray\n",
    "S = 100              # initial price\n",
    "T = 1.\n",
    "\n",
    "char_fun = LevyCharFunction('CGMY')\n",
    "char_fun.Y = 0.5\n",
    "\n",
    "specifications = (K,S,char_fun,'call')\n",
    "\n",
    "reference_value = [19.812948843]\n",
    "run_experiment(T, reference_value,specifications)\n"
   ]
  },
  {
   "cell_type": "markdown",
   "metadata": {},
   "source": [
    "### Table 9: Accuracy and speed for CGMY with Y=1.5"
   ]
  },
  {
   "cell_type": "code",
   "execution_count": 343,
   "metadata": {},
   "outputs": [
    {
     "name": "stdout",
     "output_type": "stream",
     "text": [
      "Model: \t\t CGMY\n",
      "Strike K =\t [100]\n",
      "Underlying S =\t 100\n",
      "T =\t\t 1.0\n",
      "Reference val. = [49.790905469] \n",
      "\n",
      "N \t max. abs. err. \t avg.time(msec)\n",
      "64 \t 17.8199710881 \t 0.4361867904663086\n",
      "128 \t 17.8199710881 \t 0.33486127853393555\n",
      "256 \t 17.8199710881 \t 0.4049110412597656\n",
      "512 \t 17.8199710881 \t 0.43986082077026367\n",
      "1024 \t 17.8199710881 \t 0.7367229461669922\n",
      "\n",
      "\n",
      "\n"
     ]
    }
   ],
   "source": [
    "K = np.array([100]) # strike price, ndarray\n",
    "S = 100              # initial price\n",
    "\n",
    "char_fun = LevyCharFunction('CGMY')\n",
    "\n",
    "# we can easily specify a different Y value for the CGMY model by\n",
    "char_fun.Y = 1.5\n",
    "\n",
    "reference_value = [49.790905469]\n",
    "T = 1.\n",
    "\n",
    "specifications = (K,S,char_fun,'call')\n",
    "\n",
    "run_experiment(T, reference_value,specifications)"
   ]
  },
  {
   "cell_type": "markdown",
   "metadata": {},
   "source": [
    "### Fig. 6: Recovered density functions for the CGMY model with diﬀerent values of Y"
   ]
  },
  {
   "cell_type": "code",
   "execution_count": 344,
   "metadata": {},
   "outputs": [
    {
     "data": {
      "image/png": "[encoded data removed]",
      "text/plain": [
       "<matplotlib.figure.Figure at 0x10d28a630>"
      ]
     },
     "metadata": {},
     "output_type": "display_data"
    }
   ],
   "source": [
    "N = 1024 \n",
    "a, b = char_fun.get_ab(T)\n",
    "interval = (-8, 8)\n",
    "\n",
    "for Y in (0.5, 1.5, 1.98):\n",
    "    char_fun.Y = Y\n",
    "    values = get_values(a,b,char_fun.evaluate,N,interval, T)\n",
    "    plt.plot(*values)  "
   ]
  },
  {
   "cell_type": "markdown",
   "metadata": {},
   "source": [
    "# Extra: Speed Test of vectorized vs. unvectorized Pricing"
   ]
  },
  {
   "cell_type": "code",
   "execution_count": 326,
   "metadata": {
    "collapsed": true
   },
   "outputs": [],
   "source": [
    "def slow_pricing(K, S, N, tau, char_fun, style):\n",
    "    \"\"\"\n",
    "    This is similar to the pricing function above (eq 30), but does not \n",
    "    use the matrix-vector product to speed up computation but \n",
    "    a simple for loop over all k.\n",
    "    \"\"\"\n",
    "    x = np.log(S/K)   #from page 6\n",
    "    \n",
    "    a, b = char_fun.get_ab(tau)\n",
    "    \n",
    "    r_param = char_fun.r\n",
    "    q_param = char_fun.q\n",
    "    \n",
    "    prices = np.zeros(len(K)) \n",
    "     \n",
    "    sum_over_k = 0\n",
    "    \n",
    "    for k in range(N):\n",
    "        \n",
    "        ome = k * np.pi / (b-a)  # the expression inside the characteristic fn\n",
    "\n",
    "        phi_omega = char_fun.evaluate(ome, tau)\n",
    "        \n",
    "        exponential = np.exp(1j * ome * (x -a))        \n",
    "        \n",
    "        summand = phi_omega*UK(k,a,b,style)*exponential\n",
    "        \n",
    "        # first summand is only half weighted\n",
    "        if k == 0:\n",
    "            sum_over_k += 0.5*summand\n",
    "            \n",
    "        else:\n",
    "            sum_over_k += summand\n",
    "            \n",
    "    return K*cmath.exp(-r_param*tau)*np.real(sum_over_k)"
   ]
  },
  {
   "cell_type": "code",
   "execution_count": 327,
   "metadata": {
    "collapsed": true
   },
   "outputs": [],
   "source": [
    "def speed_test(T, ref_values, specifications):\n",
    "    \n",
    "    K,S,char_fun,style = specifications\n",
    "\n",
    "    print(\"Model: \\t\\t\", char_fun.model)\n",
    "    print(\"Strike K =\\t\", K)\n",
    "    print(\"Underlying S =\\t\", S)\n",
    "    print(\"T =\\t\\t\", T)\n",
    "    print(\"Reference val. =\", ref_values, \"\\n\")\n",
    "        \n",
    "    for pricing_fn in (pricing, slow_pricing):\n",
    "        print(pricing_fn.__name__)\n",
    "        print(\"N \\t max. abs. err. \\t avg.time(msec)\") \n",
    "        for w in range(6,11):\n",
    "            N = 2**w\n",
    "            prices = pricing_fn(K, S, N, T, char_fun, style)\n",
    "            errors = ref_values-prices\n",
    "            max_abs_error = max(abs(errors))\n",
    "\n",
    "            start = time.time()\n",
    "            for i in range(100):\n",
    "                pricing_fn(K, S, N, T, char_fun, style)\n",
    "            elapsed_time = (time.time() - start)\n",
    "\n",
    "            # average and convert to milliseconds\n",
    "            elapsed_time = 1000*elapsed_time/100\n",
    "            \n",
    "            print(\"%s \\t %s \\t %s\" % (N, max_abs_error, elapsed_time))\n",
    "        print(\"\\n\")\n",
    "    print(\"\\n\\n\")"
   ]
  },
  {
   "cell_type": "code",
   "execution_count": 328,
   "metadata": {},
   "outputs": [
    {
     "name": "stdout",
     "output_type": "stream",
     "text": [
      "Model: \t\t Heston\n",
      "Strike K =\t [100]\n",
      "Underlying S =\t 100\n",
      "T =\t\t 1\n",
      "Reference val. = [5.78515545] \n",
      "\n",
      "pricing\n",
      "N \t max. abs. err. \t avg.time(msec)\n",
      "64 \t 4.04972937194e-05 \t 0.4948616027832031\n",
      "128 \t 3.63736341571e-05 \t 0.38162946701049805\n",
      "256 \t 3.63735351652e-05 \t 0.45972108840942383\n",
      "512 \t 3.63735351652e-05 \t 0.6383800506591797\n",
      "1024 \t 3.63735351652e-05 \t 1.0337495803833008\n",
      "\n",
      "\n",
      "slow_pricing\n",
      "N \t max. abs. err. \t avg.time(msec)\n",
      "64 \t 4.04972937176e-05 \t 4.675791263580322\n",
      "128 \t 3.63736341553e-05 \t 8.838369846343994\n",
      "256 \t 3.63735351643e-05 \t 16.610291004180908\n",
      "512 \t 3.63735351643e-05 \t 30.608439445495605\n",
      "1024 \t 3.63735351643e-05 \t 59.57335948944092\n",
      "\n",
      "\n",
      "\n",
      "\n",
      "\n"
     ]
    }
   ],
   "source": [
    "K = np.array([100])  # strike price\n",
    "S = 100 \n",
    "specifications = (K,S,HestonCharFunction(),'call')\n",
    "\n",
    "T = 1   # years to maturity\n",
    "reference_value = [5.785155450]\n",
    "\n",
    "speed_test(T,reference_value,specifications)"
   ]
  }
 ],
 "metadata": {
  "kernelspec": {
   "display_name": "Python [conda env:anmada]",
   "language": "python",
   "name": "conda-env-anmada-py"
  },
  "language_info": {
   "codemirror_mode": {
    "name": "ipython",
    "version": 3
   },
   "file_extension": ".py",
   "mimetype": "text/x-python",
   "name": "python",
   "nbconvert_exporter": "python",
   "pygments_lexer": "ipython3",
   "version": "3.6.2"
  }
 },
 "nbformat": 4,
 "nbformat_minor": 2
}
