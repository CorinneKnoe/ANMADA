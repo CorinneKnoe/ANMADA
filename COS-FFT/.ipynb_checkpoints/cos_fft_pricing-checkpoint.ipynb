{
 "cells": [
  {
   "cell_type": "markdown",
   "metadata": {},
   "source": [
    "# Fang & Oosterle (2008) : A novel pricing method for european options based on Fourier-Cosine series expansions (Part I/II) and Heston (1993)\n",
    "\n",
    "The goal of the Heston Model is the pricing of options based on the Heston stochastic volatility model (Heston, 1993). To solve the Heston Model, we use Fang and Osterle's (2008) COS-FFT transformation. With the COS-FFT, we are able to calculate the p.d.f. of a characteristic function on a general interval. The density of the probabilistic function of the Heston model is  used to calculate option prices."
   ]
  },
  {
   "cell_type": "markdown",
   "metadata": {},
   "source": [
    "Formulas and text are from [Fang & Oosterle 2008](https://search.proquest.com/docview/921045379?pq-origsite=gscholar) paper. Chapter and equation numbers also correspond)"
   ]
  },
  {
   "cell_type": "code",
   "execution_count": 1,
   "metadata": {
    "collapsed": true
   },
   "outputs": [],
   "source": [
    "%matplotlib inline\n",
    "\n",
    "import time\n",
    "import cmath   # c stands for complex (to handle complex numbers)\n",
    "import collections\n",
    "import numpy as np\n",
    "import matplotlib.pyplot as plt\n",
    "from scipy.special import gamma as gamma_fn\n",
    "\n",
    "import warnings\n",
    "warnings.simplefilter('ignore')"
   ]
  },
  {
   "cell_type": "code",
   "execution_count": 2,
   "metadata": {},
   "outputs": [],
   "source": [
    "# import density functions from other python file\n",
    "from cos_fft_densities import get_values"
   ]
  },
  {
   "cell_type": "markdown",
   "metadata": {},
   "source": [
    "## 3. Pricing European Options"
   ]
  },
  {
   "cell_type": "markdown",
   "metadata": {},
   "source": [
    "### 3.1. Coeﬃcients $V_k$ for Plain Vanilla Options\n",
    "Before we can use (19) for pricing options, the payoﬀ series coeﬃcients, $V_k$ , have to be recovered. We can ﬁnd analytic solutions for $V_k$ for several contracts (Fang & Ooesterle, 2008)"
   ]
  },
  {
   "cell_type": "markdown",
   "metadata": {},
   "source": [
    "Both the cosine series coeﬃcients, $\\chi_k$  and $\\psi_k$ are known analytically.\n",
    "\n",
    "<img style=\"float: left;\" src=\"figures/f_22_23.png\" width=\"580\">\n"
   ]
  },
  {
   "cell_type": "code",
   "execution_count": 3,
   "metadata": {
    "collapsed": true
   },
   "outputs": [],
   "source": [
    "# equation (22)\n",
    "def chi_cosine_series_coeff(k, a, b, c, d):\n",
    "    \"\"\"\n",
    "    Helper Function (22) in the F&O paper\n",
    "    Args:\n",
    "        k : coeﬃcients of the summand (runs from 0 to N-1)\n",
    "        a : float, left border of the trucated integral\n",
    "        b : float, right border of the truncated integral \n",
    "        c : 0\n",
    "        d : a or b\n",
    "    Returns:\n",
    "        chi_k : ndarray with N floats, a cosine series coefficient ndarray\n",
    "    \"\"\"\n",
    "    multiplier = 1 / (1 + (k* np.pi / (a - b))**2 )\n",
    "    \n",
    "    cos1 = np.cos( k * np.pi * ( (d-a)/(b-a) ) ) * np.exp(d)\n",
    "    cos2 = np.cos( k * np.pi * ( (c-a)/(b-a) ) ) * np.exp(c)\n",
    "    \n",
    "    sin1 = (k * np.pi)/(b-a) * np.sin( k * np.pi * ( (d-a)/(b-a) ) ) * np.exp(d)\n",
    "    sin2 = (k * np.pi)/(b-a) * np.sin( k * np.pi * ( (c-a)/(b-a) ) ) * np.exp(c)\n",
    "    \n",
    "    in_brakets = cos1 - cos2 + sin1 - sin2\n",
    "\n",
    "    return multiplier * in_brakets\n",
    "    \n",
    "# equation (23)\n",
    "def psi_cosine_series_coeff(k, a, b, c, d):\n",
    "    \"\"\"\n",
    "    Helper Function (23) in the F&O paper\n",
    "    Args:\n",
    "        k : int, coeﬃcients of the summand (runs from 0 to N-1)\n",
    "        a : float, left border of the trucated integral\n",
    "        b : float, right border of the truncated integral\n",
    "        c : 0\n",
    "        d : a oder b\n",
    "        \n",
    "    Returns:\n",
    "        psi_k : ndarray with N floats, a cosine series coefficient ndarray\n",
    "    \"\"\"\n",
    "    # handles 2 cases, the first if k is only an integer, the second if\n",
    "    # k is an array. k is an array if we use the vectorized compuatation of \n",
    "    # the sum\n",
    "    \n",
    "    pi = np.pi\n",
    "    \n",
    "    if isinstance(k, int): \n",
    "        if k == 0:\n",
    "            return (d-c)\n",
    "    \n",
    "    sin1 = np.sin(k * pi * (d-a)/(b-a))\n",
    "    sin2 = np.sin(k * pi * (c-a)/(b-a))\n",
    "    in_brakets = sin1 - sin2\n",
    "\n",
    "    y = in_brakets * (b-a) / (k * pi)\n",
    "\n",
    "    if isinstance(k, np.ndarray):\n",
    "\n",
    "        y[0] = (d-c)\n",
    "        \n",
    "    return y\n",
    "        "
   ]
  },
  {
   "cell_type": "markdown",
   "metadata": {},
   "source": [
    "### 3.3. Formula for Lévy Processes and the Heston Model"
   ]
  },
  {
   "cell_type": "markdown",
   "metadata": {},
   "source": [
    "<img style=\"float: left;\" src=\"figures/Uk.png\" width=\"680\">"
   ]
  },
  {
   "cell_type": "code",
   "execution_count": 4,
   "metadata": {
    "collapsed": true
   },
   "outputs": [],
   "source": [
    "def UK(k, a, b, style):\n",
    "    \"\"\"\n",
    "    Helper function for COS_FFT, (Fang & Osterle (2008), p. 6-7. )\n",
    "    Equation (29) in F&O paper. Calculates Uk.\n",
    "    Uses formula (22) and (23)\n",
    "    In:\n",
    "        k : int, coeﬃcients of the summand (runs from 0 to N-1)\n",
    "        a : float, left border of the trucated integral\n",
    "        b : float, right border of the truncated integral\n",
    "        style: bool, indicating whether the option is a call\n",
    "    Returns:\n",
    "        U:        ndarray of N floats, function value of UK\n",
    "    \"\"\"    \n",
    "    # if the option is a call\n",
    "    if style == 'call':\n",
    "        chi_k = chi_cosine_series_coeff(k, a, b, 0, b) \n",
    "        psi_k = psi_cosine_series_coeff(k, a, b, 0, b)\n",
    "\n",
    "        return (2 / (b - a)) * (chi_k - psi_k)\n",
    "        \n",
    "    # if the option is a put\n",
    "    elif style == 'put':\n",
    "        chi_k = chi_cosine_series_coeff(k, a, b, a, 0) \n",
    "        psi_k = psi_cosine_series_coeff(k, a, b, a, 0)\n",
    "        \n",
    "        return (2 / (b - a)) * (-chi_k + psi_k)"
   ]
  },
  {
   "cell_type": "markdown",
   "metadata": {},
   "source": [
    "### Lévy\n",
    "\n",
    "For the CGMY/KoBol model, which encompasses the __Geometric Brownian Motion (GBM)__ and __Variance Gamma (VG)__ models, the characteristic function of the log-asset price is of the form:\n",
    "\n",
    "<img style=\"float: left;\" src=\"figures/f_31.png\" width=\"680\">\n",
    "<img style=\"float: left;\" src=\"figures/f_56.png\" width=\"480\">"
   ]
  },
  {
   "cell_type": "code",
   "execution_count": 5,
   "metadata": {
    "collapsed": true
   },
   "outputs": [],
   "source": [
    "class LevyCharFunction:\n",
    "    def __init__(self, model):\n",
    "        \"\"\"\n",
    "        Initial values according to (56) in F&O paper\n",
    "        \"\"\"\n",
    "        self.model = model\n",
    "        \n",
    "        self.r = 0.1\n",
    "        self.q = 0.\n",
    "\n",
    "        # default is CGMY settings\n",
    "        self.C = 1.\n",
    "        self.G = 5.\n",
    "        self.M = 5.\n",
    "        self.Y = 0.5\n",
    "        \n",
    "        self.mu = self.r\n",
    "        self.sigma = 0.12  # as in eq(51)       \n",
    "            \n",
    "        if self.model == 'GBM':\n",
    "            self.C = 0.    # if C == 0, the values of G,M,Y don't matter\n",
    "            self.sigma = 0.25  # as in eq(51)\n",
    "\n",
    "        elif self.model == 'VG':\n",
    "            # according to (55)\n",
    "            self.sigma = 0.12\n",
    "            self.theta = -0.14\n",
    "            self.nu = 0.2\n",
    "            \n",
    "            self.Y = 0.   # as described on page 8 \n",
    "            \n",
    "            # C,G and M are defined as in (54)\n",
    "            self.C = 1 / self.nu\n",
    "            \n",
    "            inside_sqrt = self.theta**2/self.sigma**4 + 2/(self.nu*self.sigma**2)\n",
    "\n",
    "            self.G = self.theta / self.sigma**2 + cmath.sqrt(inside_sqrt)\n",
    "            self.M = -self.theta/self.sigma**2 + cmath.sqrt(inside_sqrt)\n",
    "            \n",
    "    def evaluate(self, omega, tau):\n",
    "        \"\"\"\n",
    "        Defined in eq(31) F&O paper\n",
    "        \"\"\"\n",
    "\n",
    "        exp1 = np.exp(1j*omega*(self.r-self.q)*tau-0.5*omega**2*self.sigma**2*tau)\n",
    "        \n",
    "        if self.Y != 0:\n",
    "            first = (self.M-1j*omega)**self.Y - self.M**self.Y\n",
    "            second = (self.G+1j*omega)**self.Y - self.G**self.Y\n",
    "            in_brackets = first + second\n",
    "            exp2 = np.exp((tau*self.C*gamma_fn(-self.Y))*in_brackets)\n",
    "        \n",
    "            return exp1 * exp2\n",
    "        \n",
    "        # because Y=0 causes exp2=1\n",
    "        else:\n",
    "            return exp1\n",
    "        \n",
    "        \n",
    "    def get_ab(self, tau):\n",
    "        \"\"\"\n",
    "        Defined in appendix, Table 11\n",
    "        \"\"\"\n",
    "        if self.model == 'GBM':\n",
    "            c1 = self.mu * tau\n",
    "            c2 = self.sigma**2 * tau\n",
    "            c4 = 0\n",
    "        \n",
    "        elif self.model == 'VG':\n",
    "            c1 = (self.mu + self.theta) * tau\n",
    "            c2 = (self.sigma**2 + self.nu*self.theta**2) * tau\n",
    "             \n",
    "            first_summand = self.sigma**4 *self.nu\n",
    "            second_summand = 2* self.theta**4 *self.nu**3\n",
    "            third_summand = 4* self.sigma**2 *self.theta**2 *self.nu**2\n",
    "            in_braces =  first_summand + second_summand + third_summand\n",
    "            c4 = 3 * in_braces * tau\n",
    "        \n",
    "        elif self.model == 'CGMY':\n",
    "            first_multip = self.C*tau*gamma_fn(1-self.Y)\n",
    "            second_multip = self.M**(self.Y-1)-self.G**(self.Y-1)\n",
    "            c1 = self.mu*tau + first_multip * second_multip\n",
    "        \n",
    "            first_multip = self.C*tau*gamma_fn(2-self.Y)\n",
    "            second_multip = self.M**(self.Y-2)-self.G**(self.Y-2)\n",
    "            c2 = self.sigma**2*tau + first_multip * second_multip\n",
    "        \n",
    "            first_multip = self.C*tau*gamma_fn(4-self.Y)\n",
    "            second_multip = self.M**(self.Y-4)-self.G**(self.Y-4)\n",
    "            c4 = first_multip * second_multip\n",
    "            \n",
    "        # eq(49)\n",
    "        root = 10*np.sqrt( c2 + np.sqrt(c4) )\n",
    "        a_param = c1 - root \n",
    "        b_param = c1 + root\n",
    "        \n",
    "        return a_param, b_param"
   ]
  },
  {
   "cell_type": "markdown",
   "metadata": {},
   "source": [
    "### Heston\n",
    "<img style=\"float: left;\" src=\"figures/heston.png\" width=\"480\">"
   ]
  },
  {
   "cell_type": "code",
   "execution_count": 6,
   "metadata": {
    "collapsed": true
   },
   "outputs": [],
   "source": [
    "class HestonCharFunction:\n",
    "    def __init__(self):\n",
    "        \"\"\"\n",
    "        Characteristic function of Heston Model based on Fang & Oosterle (2008), p. 8.\n",
    "\n",
    "        self.u_0 = variance at t=0\n",
    "        self.lam = mean reversion\n",
    "        self.eta = volatility of volatility\n",
    "        self.mu = drift of Brownian Motion (here interest rate)\n",
    "        self.rho = correlation coefficient Brownian Motion\n",
    "        self.uBar = mean level of variance\n",
    "\n",
    "        \"\"\"\n",
    "        self.model = \"Heston\"\n",
    "        \n",
    "        # parameters as in (53)\n",
    "        self.r = 0.\n",
    "        self.q = 0.\n",
    "\n",
    "        self.u_0 = 0.0175\n",
    "        self.lam = 1.5768\n",
    "        self.eta = 0.5751\n",
    "        self.mu = self.r\n",
    "        self.rho = -0.5711 \n",
    "        self.uBar = 0.0398\n",
    "    \n",
    "    def evaluate(self, ome, tau):\n",
    "        \"\"\"\n",
    "        ome = ndarray of length N\n",
    "        tau = years to maturity\n",
    "\n",
    "        Returns ndarray of N floats\n",
    "        \"\"\"\n",
    "\n",
    "        first = ( self.lam - 1j * self.rho * ome * self.eta ) ** 2\n",
    "        second = ( ome ** 2 + ome * 1j ) * self.eta ** 2\n",
    "        D = (first + second) ** (0.5)\n",
    "\n",
    "        nom = (self.lam - 1j * self.rho * ome * self.eta - D)\n",
    "        denom = (self.lam - 1j * self.rho * ome * self.eta + D)\n",
    "        G = nom / denom\n",
    "\n",
    "        first_summand = 1j * ome * self.mu * tau\n",
    "\n",
    "        first_factor = (self.u_0 / self.eta ** 2)\n",
    "        second_factor = (1 - np.exp(-D * tau)) / (1 - G * np.exp(-D * tau))\n",
    "        third_factor = self.lam - 1j * self.rho * ome * self.eta - D\n",
    "\n",
    "        second_summand =  first_factor * second_factor * third_factor \n",
    "\n",
    "        exp1 = np.exp(first_summand + second_summand)\n",
    "\n",
    "\n",
    "        first_factor = ((self.lam * self.uBar)/self.eta ** 2)\n",
    "\n",
    "        first = tau * (self.lam - 1j * self.rho * ome *self.eta -D)\n",
    "        second = 2 * np.log((1-G * np.exp(-D * tau))/(1-G))\n",
    "        second_factor = (first - second)\n",
    "\n",
    "        exp2 = np.exp( first_factor * second_factor )\n",
    "\n",
    "        phi_hes = exp1 * exp2\n",
    "\n",
    "        return phi_hes\n",
    "    \n",
    "    def get_ab(self, tau):\n",
    "        a_param = -5 * np.sqrt(self.uBar + self.uBar * self.eta)\n",
    "        b_param = 5 * np.sqrt(self.uBar + self.uBar * self.eta) \n",
    "        return a_param, b_param"
   ]
  },
  {
   "cell_type": "markdown",
   "metadata": {},
   "source": [
    "### Pricing"
   ]
  },
  {
   "cell_type": "markdown",
   "metadata": {},
   "source": [
    "<img style=\"float: left;\" src=\"figures/pricing.png\" width=\"680\">"
   ]
  },
  {
   "cell_type": "code",
   "execution_count": 7,
   "metadata": {
    "collapsed": true
   },
   "outputs": [],
   "source": [
    "def pricing(K, S, N, tau, char_fun, style):\n",
    "    \"\"\"\n",
    "    Implements eq (30) of the F&O paper\n",
    "    We do this by using the fact that \"the summation can be\n",
    "    written as a matrix-vector prodcut\", which speeds up computation\n",
    "    significantly.\n",
    "    \"\"\"\n",
    "    \n",
    "    x = np.log(S/K)          #from page 6\n",
    "    \n",
    "    a, b = char_fun.get_ab(tau)\n",
    "    \n",
    "    k = np.arange(0,N)       # vector used to sum over k, i.e. [0,1,2,...,N-1] \n",
    "    ome = k * np.pi / (b-a)  # the expression inside the characteristic fn\n",
    "\n",
    "    r_param = char_fun.r\n",
    "    q_param = char_fun.q\n",
    "    \n",
    "    weights = np.ones(N)\n",
    "    weights[0] = 0.5 # setting first weight to half\n",
    "\n",
    "    prices = np.zeros(len(K))\n",
    "    \n",
    "    for s in range(0, len(K)):\n",
    "        \n",
    "        exponential = np.exp(1j * ome * (x[s] -a))\n",
    "        \n",
    "        phi_omega = char_fun.evaluate(ome, tau)\n",
    "        \n",
    "        real_part = np.real(sum(weights * phi_omega * UK(k, a, b, style) * exponential))\n",
    "\n",
    "        prices[s] = (K[s] * np.exp(-r_param * tau) * real_part )\n",
    "    \n",
    "    #if below is uncommented, change UK to UK(k, a, b, 'put') instead of style\n",
    "#    if style == 'call':\n",
    "#        #use put call parity described in (50)\n",
    "#        prices = prices + S*np.exp(-q_param*tau) - K*np.exp(-r_param*tau)\n",
    "    \n",
    "    return prices "
   ]
  },
  {
   "cell_type": "markdown",
   "metadata": {},
   "source": [
    "## 5. Numerical Results"
   ]
  },
  {
   "cell_type": "code",
   "execution_count": 8,
   "metadata": {
    "collapsed": true
   },
   "outputs": [],
   "source": [
    "def run_experiment(T, ref_values, specifications):\n",
    "    \"\"\"\n",
    "    \"\"\"\n",
    "    K,S,char_fun,style = specifications\n",
    "    print(\"Model: \\t\\t\", char_fun.model)\n",
    "    print(\"Strike K =\\t\", K)\n",
    "    print(\"Underlying S =\\t\", S)\n",
    "    print(\"T =\\t\\t\", T)\n",
    "    print(\"Reference val. =\", ref_values, \"\\n\")\n",
    "    \n",
    "    print(\"N \\t max. abs. err. \\t avg.time(msec)\")\n",
    "    \n",
    "    for w in range(6,11):\n",
    "        N = 2**w\n",
    "        prices = pricing(K, S, N, T, char_fun, style)\n",
    "        errors = ref_values-prices\n",
    "        max_abs_error = max(abs(errors))\n",
    "        \n",
    "        start = time.time()\n",
    "        for i in range(100):\n",
    "            pricing(K, S, N, T, char_fun, style)\n",
    "        elapsed_time = (time.time() - start)\n",
    "        \n",
    "        # average and convert to milliseconds\n",
    "        elapsed_time = 1000*elapsed_time/100\n",
    "        \n",
    "        print(\"%s \\t %s \\t %s\" % (N, max_abs_error, elapsed_time))\n",
    "    print(\"\\n\\n\")\n",
    "    "
   ]
  },
  {
   "cell_type": "markdown",
   "metadata": {},
   "source": [
    "## 5.2. Geometric Brownian Motion, GBM."
   ]
  },
  {
   "cell_type": "markdown",
   "metadata": {},
   "source": [
    "### Table 2"
   ]
  },
  {
   "cell_type": "code",
   "execution_count": 9,
   "metadata": {},
   "outputs": [
    {
     "name": "stdout",
     "output_type": "stream",
     "text": [
      "Model: \t\t GBM\n",
      "Strike K =\t [100]\n",
      "Underlying S =\t 100\n",
      "T =\t\t 0.1\n",
      "Reference val. = [ 20.79922631   3.65996845   0.04457781] \n",
      "\n",
      "N \t max. abs. err. \t avg.time(msec)\n",
      "64 \t 16.9596986455 \t 0.4139518737792969\n",
      "128 \t 16.9596986455 \t 0.38213014602661133\n",
      "256 \t 16.9596986455 \t 0.3301095962524414\n",
      "512 \t 16.9596986455 \t 0.40745973587036133\n",
      "1024 \t 16.9596986455 \t 0.8281326293945312\n",
      "\n",
      "\n",
      "\n"
     ]
    }
   ],
   "source": [
    "K = np.array([100])   # strike prices\n",
    "S = 100              # initial price\n",
    "\n",
    "T = 0.1\n",
    "reference_values = np.array([20.799226309, 3.659968453, 0.044577814])\n",
    "\n",
    "char_fun = LevyCharFunction('GBM')\n",
    "specifications = (K,S,char_fun,'call')\n",
    "\n",
    "run_experiment(T, reference_values, specifications)"
   ]
  },
  {
   "cell_type": "code",
   "execution_count": 10,
   "metadata": {},
   "outputs": [
    {
     "data": {
      "image/png": "[encoded data removed]",
      "text/plain": [
       "<matplotlib.figure.Figure at 0x10d934c18>"
      ]
     },
     "metadata": {},
     "output_type": "display_data"
    }
   ],
   "source": [
    "T = 0.1\n",
    "N = 512 \n",
    "a, b = char_fun.get_ab(T)\n",
    "interval = (-1.5, 1.5)\n",
    "\n",
    "# the function get_values is imported from the density notebook \n",
    "values = get_values(a,b,char_fun.evaluate,N,interval)\n",
    "plt.plot(*values);"
   ]
  },
  {
   "cell_type": "markdown",
   "metadata": {},
   "source": [
    "## 5.3. The Heston Model"
   ]
  },
  {
   "cell_type": "code",
   "execution_count": 11,
   "metadata": {
    "collapsed": true
   },
   "outputs": [],
   "source": [
    "K = np.array([100])  # strike price\n",
    "S = 100 \n",
    "char_fun = HestonCharFunction()\n",
    "\n",
    "specifications = (K,S,char_fun,'call')"
   ]
  },
  {
   "cell_type": "code",
   "execution_count": 12,
   "metadata": {},
   "outputs": [
    {
     "data": {
      "image/png": "[encoded data removed]",
      "text/plain": [
       "<matplotlib.figure.Figure at 0x110d38b70>"
      ]
     },
     "metadata": {},
     "output_type": "display_data"
    }
   ],
   "source": [
    "T = 1\n",
    "N = 512 \n",
    "a, b = char_fun.get_ab(T)\n",
    "interval = (-2.5, 2.5)\n",
    "\n",
    "# the function get_values is imported from the density notebook \n",
    "values = get_values(a,b,char_fun.evaluate,N,interval)\n",
    "plt.plot(*values);"
   ]
  },
  {
   "cell_type": "code",
   "execution_count": 13,
   "metadata": {},
   "outputs": [
    {
     "name": "stdout",
     "output_type": "stream",
     "text": [
      "Model: \t\t Heston\n",
      "Strike K =\t [100]\n",
      "Underlying S =\t 100\n",
      "T =\t\t 1\n",
      "Reference val. = 5.78515545 \n",
      "\n",
      "N \t max. abs. err. \t avg.time(msec)\n",
      "64 \t 4.04972937194e-05 \t 0.5368614196777344\n",
      "128 \t 3.63736341571e-05 \t 0.4558897018432617\n",
      "256 \t 3.63735351652e-05 \t 0.3581380844116211\n",
      "512 \t 3.63735351652e-05 \t 0.5279326438903809\n",
      "1024 \t 3.63735351652e-05 \t 0.901331901550293\n",
      "\n",
      "\n",
      "\n"
     ]
    }
   ],
   "source": [
    "    T = 1   # years to maturity\n",
    "reference_value = 5.785155450 \n",
    "\n",
    "run_experiment(T,reference_value,specifications)"
   ]
  },
  {
   "cell_type": "code",
   "execution_count": 14,
   "metadata": {
    "scrolled": false
   },
   "outputs": [
    {
     "name": "stdout",
     "output_type": "stream",
     "text": [
      "Model: \t\t Heston\n",
      "Strike K =\t [100]\n",
      "Underlying S =\t 100\n",
      "T =\t\t 10\n",
      "Reference val. = 22.318945791 \n",
      "\n",
      "N \t max. abs. err. \t avg.time(msec)\n",
      "64 \t 0.295672959141 \t 0.41214942932128906\n",
      "128 \t 0.295672959141 \t 0.2948570251464844\n",
      "256 \t 0.295672959141 \t 0.4573178291320801\n",
      "512 \t 0.295672959141 \t 0.5484104156494141\n",
      "1024 \t 0.295672959141 \t 0.9523200988769531\n",
      "\n",
      "\n",
      "\n"
     ]
    }
   ],
   "source": [
    "T = 10   # years to maturity\n",
    "reference_value=22.318945791\n",
    "\n",
    "run_experiment(T,reference_value,specifications)"
   ]
  },
  {
   "cell_type": "markdown",
   "metadata": {},
   "source": [
    "Repeat the experiment for `T=1` but now with 21 consecutive strikes, `K = [50, 55, 60, · · · , 150]`"
   ]
  },
  {
   "cell_type": "code",
   "execution_count": 15,
   "metadata": {},
   "outputs": [
    {
     "name": "stdout",
     "output_type": "stream",
     "text": [
      "cpu time (msec.):  15.044000000000057 \n",
      "\n"
     ]
    },
    {
     "data": {
      "image/png": "[encoded data removed]",
      "text/plain": [
       "<matplotlib.figure.Figure at 0x10d924048>"
      ]
     },
     "metadata": {},
     "output_type": "display_data"
    }
   ],
   "source": [
    "T=1\n",
    "N=160\n",
    "K = np.array([j for j in range(50,151,5)])\n",
    "t = time.process_time()\n",
    "prices = pricing(K, S, N, T, HestonCharFunction(), 'call')\n",
    "elapsed = time.process_time()-t\n",
    "print(\"cpu time (msec.): \", 1000*elapsed, \"\\n\")\n",
    "plt.plot(K, prices);"
   ]
  },
  {
   "cell_type": "markdown",
   "metadata": {},
   "source": [
    "## 5.4. Variance Gamma, VG."
   ]
  },
  {
   "cell_type": "code",
   "execution_count": 16,
   "metadata": {
    "collapsed": true
   },
   "outputs": [],
   "source": [
    "K = np.array([90]) # strike price, ndarray\n",
    "S = 100              # initial price\n",
    "specifications = (K,S,LevyCharFunction('VG'),'call')"
   ]
  },
  {
   "cell_type": "markdown",
   "metadata": {},
   "source": [
    "### Table 7"
   ]
  },
  {
   "cell_type": "code",
   "execution_count": 17,
   "metadata": {},
   "outputs": [
    {
     "name": "stdout",
     "output_type": "stream",
     "text": [
      "Model: \t\t VG\n",
      "Strike K =\t [90]\n",
      "Underlying S =\t 100\n",
      "T =\t\t 0.1\n",
      "Reference val. = 10.993703187 \n",
      "\n",
      "N \t max. abs. err. \t avg.time(msec)\n",
      "64 \t 0.0250527300358 \t 0.35859107971191406\n",
      "128 \t 0.0250523647831 \t 0.19865751266479492\n",
      "256 \t 0.0250523647831 \t 0.25379180908203125\n",
      "512 \t 0.0250523647831 \t 0.29549121856689453\n",
      "1024 \t 0.0250523647831 \t 0.46631813049316406\n",
      "\n",
      "\n",
      "\n",
      "Model: \t\t VG\n",
      "Strike K =\t [90]\n",
      "Underlying S =\t 100\n",
      "T =\t\t 1\n",
      "Reference val. = 19.099354724 \n",
      "\n",
      "N \t max. abs. err. \t avg.time(msec)\n",
      "64 \t 0.354346633342 \t 0.21164894104003906\n",
      "128 \t 0.354346633429 \t 0.2655601501464844\n",
      "256 \t 0.354346633429 \t 0.31087160110473633\n",
      "512 \t 0.354346633429 \t 0.35806894302368164\n",
      "1024 \t 0.354346633429 \t 0.4584336280822754\n",
      "\n",
      "\n",
      "\n"
     ]
    }
   ],
   "source": [
    "T = .1\n",
    "reference_value = 10.993703187\n",
    "\n",
    "run_experiment(T, reference_value,specifications)\n",
    "\n",
    "T = 1\n",
    "reference_value = 19.099354724\n",
    "run_experiment(T, reference_value,specifications)"
   ]
  },
  {
   "cell_type": "markdown",
   "metadata": {},
   "source": [
    "## 5.5. CGMY"
   ]
  },
  {
   "cell_type": "markdown",
   "metadata": {},
   "source": [
    "### Table 8"
   ]
  },
  {
   "cell_type": "code",
   "execution_count": 18,
   "metadata": {},
   "outputs": [
    {
     "name": "stdout",
     "output_type": "stream",
     "text": [
      "Model: \t\t CGMY\n",
      "Strike K =\t [100]\n",
      "Underlying S =\t 100\n",
      "T =\t\t 1\n",
      "Reference val. = 19.812948843 \n",
      "\n",
      "N \t max. abs. err. \t avg.time(msec)\n",
      "64 \t 6.584254186 \t 0.3751492500305176\n",
      "128 \t 6.584254186 \t 0.21252155303955078\n",
      "256 \t 6.584254186 \t 0.3826713562011719\n",
      "512 \t 6.584254186 \t 0.35413026809692383\n",
      "1024 \t 6.584254186 \t 0.5886507034301758\n",
      "\n",
      "\n",
      "\n"
     ]
    }
   ],
   "source": [
    "K = np.array([100]) # strike price, ndarray\n",
    "S = 100              # initial price\n",
    "\n",
    "char_fun = LevyCharFunction('CGMY')\n",
    "char_fun.Y = 0.5\n",
    "\n",
    "specifications = (K,S,char_fun,'call')\n",
    "\n",
    "T = 1\n",
    "reference_value = 19.812948843\n",
    "\n",
    "run_experiment(T, reference_value,specifications)"
   ]
  },
  {
   "cell_type": "markdown",
   "metadata": {},
   "source": [
    "### Table 9"
   ]
  },
  {
   "cell_type": "code",
   "execution_count": 19,
   "metadata": {},
   "outputs": [
    {
     "name": "stdout",
     "output_type": "stream",
     "text": [
      "Model: \t\t CGMY\n",
      "Strike K =\t [100]\n",
      "Underlying S =\t 100\n",
      "T =\t\t 1\n",
      "Reference val. = 49.790905469 \n",
      "\n",
      "N \t max. abs. err. \t avg.time(msec)\n",
      "64 \t 1.62755940068 \t 0.2888607978820801\n",
      "128 \t 1.62755940068 \t 0.2503180503845215\n",
      "256 \t 1.62755940068 \t 0.3806424140930176\n",
      "512 \t 1.62755940068 \t 0.43515920639038086\n",
      "1024 \t 1.62755940068 \t 0.7340693473815918\n",
      "\n",
      "\n",
      "\n"
     ]
    }
   ],
   "source": [
    "K = np.array([100]) # strike price, ndarray\n",
    "S = 100              # initial price\n",
    "\n",
    "char_fun = LevyCharFunction('CGMY')\n",
    "\n",
    "# we can easily specify a different Y value for the CGMY model by\n",
    "char_fun.Y = 1.5\n",
    "\n",
    "reference_value = 49.790905469 \n",
    "T = 1\n",
    "\n",
    "specifications = (K,S,char_fun,'call')\n",
    "\n",
    "run_experiment(T, reference_value,specifications)"
   ]
  },
  {
   "cell_type": "markdown",
   "metadata": {},
   "source": [
    "# Extra: Speed Test of vectorized vs. unvectorized Pricing"
   ]
  },
  {
   "cell_type": "code",
   "execution_count": 20,
   "metadata": {
    "collapsed": true
   },
   "outputs": [],
   "source": [
    "def slow_pricing(K, S, N, tau, char_fun, style):\n",
    "    \"\"\"\n",
    "    This is similar to the pricing function above (eq 30), but does not \n",
    "    use the matrix-vector product to speed up computation but \n",
    "    a simple for loop over all k.\n",
    "    \"\"\"\n",
    "    x = np.log(S/K)   #from page 6\n",
    "    \n",
    "    a, b = char_fun.get_ab(tau)\n",
    "    \n",
    "    r_param = char_fun.r\n",
    "    q_param = char_fun.q\n",
    "    \n",
    "    prices = np.zeros(len(K)) \n",
    "     \n",
    "    sum_over_k = 0\n",
    "    \n",
    "    for k in range(N):\n",
    "        \n",
    "        ome = k * np.pi / (b-a)  # the expression inside the characteristic fn\n",
    "\n",
    "        phi_omega = char_fun.evaluate(ome, tau)\n",
    "        \n",
    "        exponential = np.exp(1j * ome * (x -a))        \n",
    "        \n",
    "        summand = phi_omega*UK(k,a,b,style)*exponential\n",
    "        \n",
    "        # first summand is only half weighted\n",
    "        if k == 0:\n",
    "            sum_over_k += 0.5*summand\n",
    "            \n",
    "        else:\n",
    "            sum_over_k += summand\n",
    "            \n",
    "    return K*cmath.exp(-r_param*tau)*np.real(sum_over_k)"
   ]
  },
  {
   "cell_type": "code",
   "execution_count": 21,
   "metadata": {
    "collapsed": true
   },
   "outputs": [],
   "source": [
    "def speed_test(T, ref_values, specifications):\n",
    "    \n",
    "    K,S,char_fun,style = specifications\n",
    "\n",
    "    print(\"Model: \\t\\t\", char_fun.model)\n",
    "    print(\"Strike K =\\t\", K)\n",
    "    print(\"Underlying S =\\t\", S)\n",
    "    print(\"T =\\t\\t\", T)\n",
    "    print(\"Reference val. =\", ref_values, \"\\n\")\n",
    "        \n",
    "    for pricing_fn in (pricing, slow_pricing):\n",
    "        print(pricing_fn.__name__)\n",
    "        print(\"N \\t max. abs. err. \\t avg.time(msec)\") \n",
    "        for w in range(6,11):\n",
    "            N = 2**w\n",
    "            prices = pricing_fn(K, S, N, T, char_fun, style)\n",
    "            errors = ref_values-prices\n",
    "            max_abs_error = max(abs(errors))\n",
    "\n",
    "            start = time.time()\n",
    "            for i in range(100):\n",
    "                pricing_fn(K, S, N, T, char_fun, style)\n",
    "            elapsed_time = (time.time() - start)\n",
    "\n",
    "            # average and convert to milliseconds\n",
    "            elapsed_time = 1000*elapsed_time/100\n",
    "            \n",
    "            print(\"%s \\t %s \\t %s\" % (N, max_abs_error, elapsed_time))\n",
    "        print(\"\\n\")\n",
    "    print(\"\\n\\n\")"
   ]
  },
  {
   "cell_type": "code",
   "execution_count": 22,
   "metadata": {},
   "outputs": [
    {
     "name": "stdout",
     "output_type": "stream",
     "text": [
      "Model: \t\t Heston\n",
      "Strike K =\t [100]\n",
      "Underlying S =\t 100\n",
      "T =\t\t 1\n",
      "Reference val. = 5.78515545 \n",
      "\n",
      "pricing\n",
      "N \t max. abs. err. \t avg.time(msec)\n",
      "64 \t 4.04972937194e-05 \t 0.5006504058837891\n",
      "128 \t 3.63736341571e-05 \t 0.4210472106933594\n",
      "256 \t 3.63735351652e-05 \t 0.4047393798828125\n",
      "512 \t 3.63735351652e-05 \t 0.5103778839111328\n",
      "1024 \t 3.63735351652e-05 \t 0.8968496322631836\n",
      "\n",
      "\n",
      "slow_pricing\n",
      "N \t max. abs. err. \t avg.time(msec)\n",
      "64 \t 4.04972937176e-05 \t 4.365832805633545\n",
      "128 \t 3.63736341553e-05 \t 8.500261306762695\n",
      "256 \t 3.63735351643e-05 \t 15.419981479644775\n",
      "512 \t 3.63735351643e-05 \t 31.162641048431396\n",
      "1024 \t 3.63735351643e-05 \t 61.38247013092041\n",
      "\n",
      "\n",
      "\n",
      "\n",
      "\n"
     ]
    }
   ],
   "source": [
    "K = np.array([100])  # strike price\n",
    "S = 100 \n",
    "specifications = (K,S,HestonCharFunction(),'call')\n",
    "\n",
    "T = 1   # years to maturity\n",
    "reference_value = 5.785155450 \n",
    "\n",
    "speed_test(T,reference_value,specifications)"
   ]
  },
  {
   "cell_type": "code",
   "execution_count": null,
   "metadata": {
    "collapsed": true
   },
   "outputs": [],
   "source": []
  }
 ],
 "metadata": {
  "kernelspec": {
   "display_name": "Python [conda env:anmada]",
   "language": "python",
   "name": "conda-env-anmada-py"
  },
  "language_info": {
   "codemirror_mode": {
    "name": "ipython",
    "version": 3
   },
   "file_extension": ".py",
   "mimetype": "text/x-python",
   "name": "python",
   "nbconvert_exporter": "python",
   "pygments_lexer": "ipython3",
   "version": "3.6.2"
  }
 },
 "nbformat": 4,
 "nbformat_minor": 2
}
