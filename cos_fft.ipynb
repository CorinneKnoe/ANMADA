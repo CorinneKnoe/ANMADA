{
 "cells": [
  {
   "cell_type": "code",
   "execution_count": 1,
   "metadata": {
    "collapsed": true
   },
   "outputs": [],
   "source": [
    "'''\n",
    "Created on March 4, 2018\n",
    "\n",
    "@author: coknoe\n",
    "\n",
    "Implement function for ANMADA\n",
    "'''\n",
    "import math\n",
    "import scipy.integrate as integrate\n",
    "import numpy as np\n",
    "import matplotlib.pyplot as plt\n",
    "#from blaze.expr.expressions import label\n",
    "from sympy.functions import re\n",
    "from sympy import I\n",
    "from scipy.stats import norm\n",
    "# from matplotlib import interactive\n",
    "# interactive(True)\n",
    "#%matplotlib inline\n",
    "\n",
    "#Global variable \n",
    "step = np.arange(-0.5, 1.5, 0.1) #evenly spaced values within an interval, ndarray\n",
    "\n",
    "\n",
    "def example(x):\n",
    "    return 2*x**3 - x + 0.5\n",
    "\n",
    "def plotexample():\n",
    "    '''returns a list of y values for a function over [a,b]'''\n",
    "    res = np.zeros_like(step) #create ndarray with zeros\n",
    "    for counter, value in enumerate(step):\n",
    "        y = example(value)\n",
    "        res[counter] = y\n",
    "    return res\n",
    "\n",
    "def plotExample():\n",
    "    '''returns a list of y values for a function integrated over [a,b]'''\n",
    "    res = np.zeros_like(step) #create ndarray with zeros\n",
    "    for counter, value in enumerate(step):\n",
    "        y, err = integrate.quad(example, 0.5, value)\n",
    "        res[counter] = y\n",
    "    return res\n",
    "\n",
    "def cosfft(x, a, b):\n",
    "    res = 0\n",
    "    for k in range(499):\n",
    "        expr = re( norm.pdf(k * np.pi /(b-a)) * math.exp(-I * (k * a * np.pi)/(b - a)) )\n",
    "        res = res + 2/(b-a) * expr * np.cos(k * np.pi * (x - a)/(b - a))\n",
    "    return res  \n",
    " \n",
    "def plotcosfft(a, b):\n",
    "    '''returns a tuple containing a list of x values and a list of y values for a function over [a,b]'''\n",
    "    step = np.arange(a, b, 0.1)\n",
    "    res = np.zeros_like(step)\n",
    "    for counter, value in enumerate(step):\n",
    "        y = cosfft(value, a, b)\n",
    "        res[counter] = y\n",
    "    return (step, res)\n",
    "        \n",
    "\n",
    "    \n",
    "    \n",
    "    \n",
    "    \n",
    "    \n",
    "    "
   ]
  },
  {
   "cell_type": "code",
   "execution_count": 2,
   "metadata": {},
   "outputs": [
    {
     "data": {
      "image/png": "[encoded data removed]",
      "text/plain": [
       "<matplotlib.figure.Figure at 0x10e55eb70>"
      ]
     },
     "metadata": {},
     "output_type": "display_data"
    }
   ],
   "source": [
    "plt.figure(2)\n",
    "(x, y) = plotcosfft(0, np.pi) #produce x and y values of Cos-FFT Function\n",
    "plt.plot(x, y, label = \"Cos-FFT Function\", color = \"b\")\n",
    "plt.title(\"Cos-FFT\")\n",
    "plt.xlabel('Domain')\n",
    "plt.ylabel('Function values')\n",
    "plt.show()"
   ]
  }
 ],
 "metadata": {
  "kernelspec": {
   "display_name": "Python [conda root]",
   "language": "python",
   "name": "conda-root-py"
  },
  "language_info": {
   "codemirror_mode": {
    "name": "ipython",
    "version": 3
   },
   "file_extension": ".py",
   "mimetype": "text/x-python",
   "name": "python",
   "nbconvert_exporter": "python",
   "pygments_lexer": "ipython3",
   "version": "3.5.0rc4"
  }
 },
 "nbformat": 4,
 "nbformat_minor": 2
}
